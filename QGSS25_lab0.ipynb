{
  "cells": [
    {
      "cell_type": "code",
      "execution_count": 1,
      "metadata": {
        "colab": {
          "base_uri": "https://localhost:8080/"
        },
        "id": "1yL6qSYMkDVr",
        "outputId": "06297b39-8056-4490-d0a9-896e8b2d7026"
      },
      "outputs": [
        {
          "name": "stdout",
          "output_type": "stream",
          "text": [
            "3.11.13\n"
          ]
        }
      ],
      "source": [
        "from platform import python_version\n",
        "\n",
        "print(python_version())"
      ]
    },
    {
      "cell_type": "code",
      "execution_count": 4,
      "metadata": {
        "colab": {
          "base_uri": "https://localhost:8080/"
        },
        "id": "SDGC6xG2kO_J",
        "outputId": "7fb5b498-0a3a-4ba1-96aa-fe905be8235a"
      },
      "outputs": [
        {
          "name": "stdout",
          "output_type": "stream",
          "text": [
            "Collecting qc-grader@ git+https://github.com/qiskit-community/Quantum-Challenge-Grader.git (from qc-grader[jupyter,qiskit]@ git+https://github.com/qiskit-community/Quantum-Challenge-Grader.git)\n",
            "  Cloning https://github.com/qiskit-community/Quantum-Challenge-Grader.git to /tmp/pip-install-aysjaw_b/qc-grader_5b0f6d87c02247a1af1b878ac3c10143\n",
            "  Running command git clone --filter=blob:none --quiet https://github.com/qiskit-community/Quantum-Challenge-Grader.git /tmp/pip-install-aysjaw_b/qc-grader_5b0f6d87c02247a1af1b878ac3c10143\n",
            "  Resolved https://github.com/qiskit-community/Quantum-Challenge-Grader.git to commit 897f4448b14d18b4d0a430f57f11c2dcb6200c20\n",
            "  Preparing metadata (setup.py) ... \u001b[?25l\u001b[?25hdone\n"
          ]
        }
      ],
      "source": [
        "!pip install \"qc-grader[qiskit,jupyter] @ git+https://github.com/qiskit-community/Quantum-Challenge-Grader.git\" --no-deps"
      ]
    },
    {
      "cell_type": "code",
      "execution_count": 5,
      "metadata": {
        "colab": {
          "base_uri": "https://localhost:8080/"
        },
        "id": "6b1H9kUMkS4q",
        "outputId": "114a797e-d2b4-4af3-9011-20ad6553bd57"
      },
      "outputs": [
        {
          "name": "stdout",
          "output_type": "stream",
          "text": [
            "Qiskit version: 2.1.0\n",
            "Grader version: 0.22.9\n"
          ]
        }
      ],
      "source": [
        "import qiskit\n",
        "import qc_grader\n",
        "\n",
        "print(f\"Qiskit version: {qiskit.__version__}\")\n",
        "print(f\"Grader version: {qc_grader.__version__}\")"
      ]
    },
    {
      "cell_type": "code",
      "execution_count": null,
      "metadata": {
        "id": "DmL90oECmvXX"
      },
      "outputs": [],
      "source": [
        "your_api_key = \"enter your Api key here\"\n",
        "your_crn = \"enter your CRN here\"\n",
        "\n",
        "from qiskit_ibm_runtime import QiskitRuntimeService\n",
        "\n",
        "QiskitRuntimeService.save_account(\n",
        "    channel=\"ibm_quantum_platform\",\n",
        "    token=your_api_key,\n",
        "    instance=your_crn,\n",
        "    name=\"qgss-2025\",\n",
        "    overwrite=True\n",
        ")"
      ]
    },
    {
      "cell_type": "code",
      "execution_count": null,
      "metadata": {
        "colab": {
          "base_uri": "https://localhost:8080/"
        },
        "id": "KiKcI5JzoPF1",
        "outputId": "4c7fdae7-0eb5-402b-e4fb-fe5f1937458f"
      },
      "outputs": [
        {
          "data": {
            "text/plain": [
              "{'qgss-2025': {'channel': 'ibm_quantum_platform',\n",
              "  'url': 'https://cloud.ibm.com',\n",
              "  'token': 'token',\n",
              "  'instance': 'crn:v1:bluemix:public:quantum-computing:us-east:a/40b27075d7c34b02bc4479d6db856fc8:01702384-c52d-4f72-a651-75ca6450c112::',\n",
              "  'verify': True,\n",
              "  'private_endpoint': False}}"
            ]
          },
          "execution_count": 7,
          "metadata": {},
          "output_type": "execute_result"
        }
      ],
      "source": [
        "service = QiskitRuntimeService(name=\"qgss-2025\")\n",
        "service.saved_accounts()"
      ]
    },
    {
      "cell_type": "code",
      "execution_count": 8,
      "metadata": {
        "id": "_IQzVtO4obDa"
      },
      "outputs": [],
      "source": [
        "import matplotlib.pyplot as plt\n",
        "\n",
        "from qiskit import QuantumCircuit, generate_preset_pass_manager\n",
        "from qiskit.visualization import plot_histogram\n",
        "from qiskit.quantum_info import SparsePauliOp\n",
        "\n",
        "from qiskit_ibm_runtime import QiskitRuntimeService, SamplerV2 as Sampler, EstimatorV2 as Estimator\n",
        "\n",
        "from qiskit_aer import AerSimulator\n",
        "\n",
        "from qc_grader.challenges.qgss_2025 import grade_lab0_ex1, grade_lab0_ex2"
      ]
    },
    {
      "cell_type": "code",
      "execution_count": 10,
      "metadata": {
        "colab": {
          "base_uri": "https://localhost:8080/",
          "height": 191
        },
        "id": "dT7H76HZohVJ",
        "outputId": "79c806ec-49fd-423f-ec85-e4c627130959"
      },
      "outputs": [
        {
          "data": {
            "image/png": "[encoded data removed]",
            "text/plain": [
              "<Figure size 287.294x200.667 with 1 Axes>"
            ]
          },
          "execution_count": 10,
          "metadata": {},
          "output_type": "execute_result"
        }
      ],
      "source": [
        "qc = QuantumCircuit(2)\n",
        "qc.h(0)\n",
        "qc.cx(0, 1)\n",
        "qc.draw(\"mpl\")"
      ]
    },
    {
      "cell_type": "code",
      "execution_count": null,
      "metadata": {
        "colab": {
          "base_uri": "https://localhost:8080/",
          "height": 255
        },
        "id": "YCTi4ty8orFi",
        "outputId": "d5abca95-b26c-446a-ed6d-844b46c209d0"
      },
      "outputs": [
        {
          "data": {
            "image/png": "[encoded data removed]",
            "text/plain": [
              "<Figure size 371.107x284.278 with 1 Axes>"
            ]
          },
          "execution_count": 11,
          "metadata": {},
          "output_type": "execute_result"
        }
      ],
      "source": [
        "qc = QuantumCircuit(3)\n",
        "qc.h(0)\n",
        "qc.cx(0,1)\n",
        "qc.cx(1,2)\n",
        "qc.draw(\"mpl\")"
      ]
    },
    {
      "cell_type": "code",
      "execution_count": 12,
      "metadata": {
        "colab": {
          "base_uri": "https://localhost:8080/"
        },
        "id": "w3b_WTlTo3JK",
        "outputId": "494ae38f-39eb-4f06-88df-db12059467ea"
      },
      "outputs": [
        {
          "name": "stdout",
          "output_type": "stream",
          "text": [
            "Submitting your answer. Please wait...\n",
            "Congratulations 🎉! Your answer is correct and has been submitted.\n"
          ]
        }
      ],
      "source": [
        "grade_lab0_ex1(qc)"
      ]
    },
    {
      "cell_type": "code",
      "execution_count": null,
      "metadata": {
        "colab": {
          "base_uri": "https://localhost:8080/",
          "height": 255
        },
        "id": "PtPE9f1Jo7OY",
        "outputId": "6ca7471c-21cb-401a-b4fa-db92bbaed0d2"
      },
      "outputs": [
        {
          "data": {
            "image/png": "[encoded data removed]",
            "text/plain": [
              "<Figure size 507.401x284.278 with 1 Axes>"
            ]
          },
          "execution_count": 13,
          "metadata": {},
          "output_type": "execute_result"
        }
      ],
      "source": [
        "coupling_map = [[0, 1], [0, 2]]\n",
        "from qiskit.transpiler.preset_passmanagers import generate_preset_pass_manager\n",
        "\n",
        "pm = generate_preset_pass_manager(optimization_level=3, coupling_map=coupling_map)\n",
        "qc_transpiled = pm.run(qc)\n",
        "\n",
        "\n",
        "qc_transpiled.draw(\"mpl\")\n"
      ]
    },
    {
      "cell_type": "code",
      "execution_count": null,
      "metadata": {
        "colab": {
          "base_uri": "https://localhost:8080/"
        },
        "id": "Qf97M9gGpCM5",
        "outputId": "d6203d0d-3a14-4c61-956e-7fe1bab91780"
      },
      "outputs": [
        {
          "name": "stdout",
          "output_type": "stream",
          "text": [
            "Submitting your answer. Please wait...\n",
            "Congratulations 🎉! Your answer is correct and has been submitted.\n"
          ]
        }
      ],
      "source": [
        "grade_lab0_ex2(qc_transpiled)"
      ]
    },
    {
      "cell_type": "code",
      "execution_count": null,
      "metadata": {
        "id": "HmjNaQIqxrGy"
      },
      "outputs": [],
      "source": [
        "qc.measure_all()\n",
        "backend = AerSimulator()\n",
        "sampler = Sampler(mode=backend)\n",
        "pm = generate_preset_pass_manager(backend=backend, optimization_level=1)\n",
        "job = sampler.run(pm.run([qc]))\n",
        "results_sampler = job.result()"
      ]
    },
    {
      "cell_type": "code",
      "execution_count": null,
      "metadata": {
        "id": "UKhjY3ssyHNg"
      },
      "outputs": [],
      "source": [
        "estimator = Estimator(mode=backend)\n",
        "\n",
        "ZZZ = SparsePauliOp(\"ZZZ\")\n",
        "ZZX = SparsePauliOp(\"ZZX\")\n",
        "ZII = SparsePauliOp(\"ZII\")\n",
        "XXI = SparsePauliOp(\"XXI\")\n",
        "ZZI = SparsePauliOp(\"ZZI\")\n",
        "III = SparsePauliOp(\"III\")\n",
        "observables = [ZZZ, ZZX, ZII, XXI, ZZI, III]\n",
        "\n",
        "pub = (qc, observables)\n",
        "job = estimator.run(pubs=[pub])\n",
        "\n",
        "results_estimator = job.result()"
      ]
    },
    {
      "cell_type": "code",
      "execution_count": 17,
      "metadata": {
        "colab": {
          "base_uri": "https://localhost:8080/",
          "height": 504
        },
        "id": "I9TWFg7oyPmN",
        "outputId": "e86ed63a-dcfd-4209-9eb8-4cae63c16e1e"
      },
      "outputs": [
        {
          "name": "stdout",
          "output_type": "stream",
          "text": [
            "  Outcomes : {'000': 517, '111': 507}\n"
          ]
        },
        {
          "data": {
            "image/png": "[encoded data removed]",
            "text/plain": [
              "<Figure size 640x480 with 1 Axes>"
            ]
          },
          "metadata": {},
          "output_type": "display_data"
        }
      ],
      "source": [
        "counts_list = results_sampler[0].data.meas.get_counts()\n",
        "print(f\"  Outcomes : {counts_list}\")\n",
        "display(plot_histogram(counts_list, title=\"GHZ state\"))"
      ]
    },
    {
      "cell_type": "code",
      "execution_count": null,
      "metadata": {
        "colab": {
          "base_uri": "https://localhost:8080/",
          "height": 486
        },
        "id": "yrmYfLrqyu4R",
        "outputId": "5975ab20-28c2-48a4-8f2c-d9467b5b01b7"
      },
      "outputs": [
        {
          "name": "stdout",
          "output_type": "stream",
          "text": [
            "Expectation values: [('ZZZ', np.float64(-0.01513671875)), ('ZZX', np.float64(0.017578125)), ('ZII', np.float64(-0.001953125)), ('XXI', np.float64(-0.0146484375)), ('ZZI', np.float64(1.0)), ('III', np.float64(1.0))]\n"
          ]
        },
        {
          "data": {
            "image/png": "[encoded data removed]",
            "text/plain": [
              "<Figure size 640x480 with 1 Axes>"
            ]
          },
          "metadata": {},
          "output_type": "display_data"
        }
      ],
      "source": [
        "exp_values = results_estimator[0].data.evs\n",
        "observables_list = [\"ZZZ\", \"ZZX\", \"ZII\", \"XXI\", \"ZZI\", \"III\"]\n",
        "print(f\"Expectation values: {list(zip(observables_list, exp_values))}\")\n",
        "container = plt.bar(observables_list, exp_values, width=0.8)\n",
        "plt.xlabel(\"Observables\")\n",
        "plt.ylabel(\"Values\")\n",
        "plt.show()"
      ]
    },
    {
      "cell_type": "code",
      "execution_count": 19,
      "metadata": {
        "colab": {
          "base_uri": "https://localhost:8080/"
        },
        "id": "KssIQKPMyyah",
        "outputId": "68858ab8-22a3-49ed-f3cd-49f8ae177702"
      },
      "outputs": [
        {
          "name": "stdout",
          "output_type": "stream",
          "text": [
            "Lab 0: 2/2 exercises completed (100%)\n",
            "    ✅ 1016 participants have completed this lab\n",
            "Lab 1: 0/9 exercises completed (0%)\n",
            "    ✅ 4 participants have completed this lab\n",
            "Lab 2: 0/7 exercises completed (0%)\n",
            "    ✅ 1 participants have completed this lab\n",
            "Lab 3: 0/5 exercises completed (0%)\n",
            "    ✅ 0 participants have completed this lab\n",
            "Lab 4: 0/6 exercises completed (0%)\n",
            "    ✅ 0 participants have completed this lab\n"
          ]
        }
      ],
      "source": [
        "from qc_grader.grader.grade import check_lab_completion_status\n",
        "check_lab_completion_status(\"qgss_2025\")"
      ]
    }
  ],
  "metadata": {
    "colab": {
      "provenance": []
    },
    "kernelspec": {
      "display_name": "Python 3",
      "name": "python3"
    },
    "language_info": {
      "name": "python"
    }
  },
  "nbformat": 4,
  "nbformat_minor": 0
}
