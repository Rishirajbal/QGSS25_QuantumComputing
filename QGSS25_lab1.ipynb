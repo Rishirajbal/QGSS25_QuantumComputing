{
  "nbformat": 4,
  "nbformat_minor": 0,
  "metadata": {
    "colab": {
      "provenance": []
    },
    "kernelspec": {
      "name": "python3",
      "display_name": "Python 3"
    },
    "language_info": {
      "name": "python"
    }
  },
  "cells": [
    {
      "cell_type": "code",
      "execution_count": 17,
      "metadata": {
        "colab": {
          "base_uri": "https://localhost:8080/"
        },
        "id": "1eRTGhhv1812",
        "outputId": "cc3e4fa4-f514-4374-a606-b116e7a25265"
      },
      "outputs": [
        {
          "output_type": "stream",
          "name": "stdout",
          "text": [
            "3.11.13\n"
          ]
        }
      ],
      "source": [
        "from platform import python_version\n",
        "\n",
        "print(python_version())"
      ]
    },
    {
      "cell_type": "code",
      "source": [
        "! pip install \"qc-grader[qiskit,jupyter] @ git+https://github.com/qiskit-community/Quantum-Challenge-Grader.git\""
      ],
      "metadata": {
        "colab": {
          "base_uri": "https://localhost:8080/"
        },
        "id": "UrSlD2Mh51wK",
        "outputId": "94eb1a07-e774-4d6a-c300-3e22506e3d0f",
        "collapsed": true
      },
      "execution_count": 22,
      "outputs": [
        {
          "output_type": "stream",
          "name": "stdout",
          "text": [
            "Collecting qc-grader@ git+https://github.com/qiskit-community/Quantum-Challenge-Grader.git (from qc-grader[jupyter,qiskit]@ git+https://github.com/qiskit-community/Quantum-Challenge-Grader.git)\n",
            "  Cloning https://github.com/qiskit-community/Quantum-Challenge-Grader.git to /tmp/pip-install-bkrm4gfs/qc-grader_3c2aa332bd684378af23e3f8d18d088e\n",
            "  Running command git clone --filter=blob:none --quiet https://github.com/qiskit-community/Quantum-Challenge-Grader.git /tmp/pip-install-bkrm4gfs/qc-grader_3c2aa332bd684378af23e3f8d18d088e\n",
            "  Resolved https://github.com/qiskit-community/Quantum-Challenge-Grader.git to commit 897f4448b14d18b4d0a430f57f11c2dcb6200c20\n",
            "  Preparing metadata (setup.py) ... \u001b[?25l\u001b[?25hdone\n",
            "Requirement already satisfied: typeguard in /usr/local/lib/python3.11/dist-packages (from qc-grader@ git+https://github.com/qiskit-community/Quantum-Challenge-Grader.git->qc-grader[jupyter,qiskit]@ git+https://github.com/qiskit-community/Quantum-Challenge-Grader.git) (4.4.4)\n",
            "Collecting jsonpickle==3.0.3 (from qc-grader@ git+https://github.com/qiskit-community/Quantum-Challenge-Grader.git->qc-grader[jupyter,qiskit]@ git+https://github.com/qiskit-community/Quantum-Challenge-Grader.git)\n",
            "  Downloading jsonpickle-3.0.3-py3-none-any.whl.metadata (7.3 kB)\n",
            "Requirement already satisfied: requests==2.32.3 in /usr/local/lib/python3.11/dist-packages (from qc-grader@ git+https://github.com/qiskit-community/Quantum-Challenge-Grader.git->qc-grader[jupyter,qiskit]@ git+https://github.com/qiskit-community/Quantum-Challenge-Grader.git) (2.32.3)\n",
            "Collecting ipycytoscape (from qc-grader@ git+https://github.com/qiskit-community/Quantum-Challenge-Grader.git->qc-grader[jupyter,qiskit]@ git+https://github.com/qiskit-community/Quantum-Challenge-Grader.git)\n",
            "  Downloading ipycytoscape-1.3.3-py2.py3-none-any.whl.metadata (7.5 kB)\n",
            "Requirement already satisfied: plotly in /usr/local/lib/python3.11/dist-packages (from qc-grader@ git+https://github.com/qiskit-community/Quantum-Challenge-Grader.git->qc-grader[jupyter,qiskit]@ git+https://github.com/qiskit-community/Quantum-Challenge-Grader.git) (5.24.1)\n",
            "Collecting networkx==3.2.1 (from qc-grader@ git+https://github.com/qiskit-community/Quantum-Challenge-Grader.git->qc-grader[jupyter,qiskit]@ git+https://github.com/qiskit-community/Quantum-Challenge-Grader.git)\n",
            "  Downloading networkx-3.2.1-py3-none-any.whl.metadata (5.2 kB)\n",
            "Requirement already satisfied: graphviz in /usr/local/lib/python3.11/dist-packages (from qc-grader@ git+https://github.com/qiskit-community/Quantum-Challenge-Grader.git->qc-grader[jupyter,qiskit]@ git+https://github.com/qiskit-community/Quantum-Challenge-Grader.git) (0.21)\n",
            "Collecting ibm-platform-services==0.66.1 (from qc-grader@ git+https://github.com/qiskit-community/Quantum-Challenge-Grader.git->qc-grader[jupyter,qiskit]@ git+https://github.com/qiskit-community/Quantum-Challenge-Grader.git)\n",
            "  Downloading ibm_platform_services-0.66.1-py3-none-any.whl.metadata (9.0 kB)\n",
            "Collecting ibm_cloud_sdk_core<4.0.0,>=3.24.1 (from ibm-platform-services==0.66.1->qc-grader@ git+https://github.com/qiskit-community/Quantum-Challenge-Grader.git->qc-grader[jupyter,qiskit]@ git+https://github.com/qiskit-community/Quantum-Challenge-Grader.git)\n",
            "  Downloading ibm_cloud_sdk_core-3.24.2-py3-none-any.whl.metadata (8.7 kB)\n",
            "Requirement already satisfied: charset-normalizer<4,>=2 in /usr/local/lib/python3.11/dist-packages (from requests==2.32.3->qc-grader@ git+https://github.com/qiskit-community/Quantum-Challenge-Grader.git->qc-grader[jupyter,qiskit]@ git+https://github.com/qiskit-community/Quantum-Challenge-Grader.git) (3.4.2)\n",
            "Requirement already satisfied: idna<4,>=2.5 in /usr/local/lib/python3.11/dist-packages (from requests==2.32.3->qc-grader@ git+https://github.com/qiskit-community/Quantum-Challenge-Grader.git->qc-grader[jupyter,qiskit]@ git+https://github.com/qiskit-community/Quantum-Challenge-Grader.git) (3.10)\n",
            "Requirement already satisfied: urllib3<3,>=1.21.1 in /usr/local/lib/python3.11/dist-packages (from requests==2.32.3->qc-grader@ git+https://github.com/qiskit-community/Quantum-Challenge-Grader.git->qc-grader[jupyter,qiskit]@ git+https://github.com/qiskit-community/Quantum-Challenge-Grader.git) (2.4.0)\n",
            "Requirement already satisfied: certifi>=2017.4.17 in /usr/local/lib/python3.11/dist-packages (from requests==2.32.3->qc-grader@ git+https://github.com/qiskit-community/Quantum-Challenge-Grader.git->qc-grader[jupyter,qiskit]@ git+https://github.com/qiskit-community/Quantum-Challenge-Grader.git) (2025.6.15)\n",
            "Requirement already satisfied: qiskit~=2.1.0 in /usr/local/lib/python3.11/dist-packages (from qiskit[visualization]~=2.1.0; extra == \"qiskit\"->qc-grader@ git+https://github.com/qiskit-community/Quantum-Challenge-Grader.git->qc-grader[jupyter,qiskit]@ git+https://github.com/qiskit-community/Quantum-Challenge-Grader.git) (2.1.0)\n",
            "Collecting qiskit-ibm-runtime (from qc-grader@ git+https://github.com/qiskit-community/Quantum-Challenge-Grader.git->qc-grader[jupyter,qiskit]@ git+https://github.com/qiskit-community/Quantum-Challenge-Grader.git)\n",
            "  Downloading qiskit_ibm_runtime-0.40.1-py3-none-any.whl.metadata (21 kB)\n",
            "Collecting qiskit-aer (from qc-grader@ git+https://github.com/qiskit-community/Quantum-Challenge-Grader.git->qc-grader[jupyter,qiskit]@ git+https://github.com/qiskit-community/Quantum-Challenge-Grader.git)\n",
            "  Downloading qiskit_aer-0.17.1-cp311-cp311-manylinux_2_17_x86_64.manylinux2014_x86_64.whl.metadata (8.3 kB)\n",
            "Collecting jupyterlab (from qc-grader@ git+https://github.com/qiskit-community/Quantum-Challenge-Grader.git->qc-grader[jupyter,qiskit]@ git+https://github.com/qiskit-community/Quantum-Challenge-Grader.git)\n",
            "  Downloading jupyterlab-4.4.4-py3-none-any.whl.metadata (16 kB)\n",
            "Requirement already satisfied: ipykernel in /usr/local/lib/python3.11/dist-packages (from qc-grader@ git+https://github.com/qiskit-community/Quantum-Challenge-Grader.git->qc-grader[jupyter,qiskit]@ git+https://github.com/qiskit-community/Quantum-Challenge-Grader.git) (6.17.1)\n",
            "Requirement already satisfied: rustworkx>=0.15.0 in /usr/local/lib/python3.11/dist-packages (from qiskit~=2.1.0->qiskit[visualization]~=2.1.0; extra == \"qiskit\"->qc-grader@ git+https://github.com/qiskit-community/Quantum-Challenge-Grader.git->qc-grader[jupyter,qiskit]@ git+https://github.com/qiskit-community/Quantum-Challenge-Grader.git) (0.16.0)\n",
            "Requirement already satisfied: numpy<3,>=1.17 in /usr/local/lib/python3.11/dist-packages (from qiskit~=2.1.0->qiskit[visualization]~=2.1.0; extra == \"qiskit\"->qc-grader@ git+https://github.com/qiskit-community/Quantum-Challenge-Grader.git->qc-grader[jupyter,qiskit]@ git+https://github.com/qiskit-community/Quantum-Challenge-Grader.git) (2.0.2)\n",
            "Requirement already satisfied: scipy>=1.5 in /usr/local/lib/python3.11/dist-packages (from qiskit~=2.1.0->qiskit[visualization]~=2.1.0; extra == \"qiskit\"->qc-grader@ git+https://github.com/qiskit-community/Quantum-Challenge-Grader.git->qc-grader[jupyter,qiskit]@ git+https://github.com/qiskit-community/Quantum-Challenge-Grader.git) (1.15.3)\n",
            "Requirement already satisfied: dill>=0.3 in /usr/local/lib/python3.11/dist-packages (from qiskit~=2.1.0->qiskit[visualization]~=2.1.0; extra == \"qiskit\"->qc-grader@ git+https://github.com/qiskit-community/Quantum-Challenge-Grader.git->qc-grader[jupyter,qiskit]@ git+https://github.com/qiskit-community/Quantum-Challenge-Grader.git) (0.3.7)\n",
            "Requirement already satisfied: stevedore>=3.0.0 in /usr/local/lib/python3.11/dist-packages (from qiskit~=2.1.0->qiskit[visualization]~=2.1.0; extra == \"qiskit\"->qc-grader@ git+https://github.com/qiskit-community/Quantum-Challenge-Grader.git->qc-grader[jupyter,qiskit]@ git+https://github.com/qiskit-community/Quantum-Challenge-Grader.git) (5.4.1)\n",
            "Requirement already satisfied: typing-extensions in /usr/local/lib/python3.11/dist-packages (from qiskit~=2.1.0->qiskit[visualization]~=2.1.0; extra == \"qiskit\"->qc-grader@ git+https://github.com/qiskit-community/Quantum-Challenge-Grader.git->qc-grader[jupyter,qiskit]@ git+https://github.com/qiskit-community/Quantum-Challenge-Grader.git) (4.14.0)\n",
            "Requirement already satisfied: matplotlib>=3.3 in /usr/local/lib/python3.11/dist-packages (from qiskit[visualization]~=2.1.0; extra == \"qiskit\"->qc-grader@ git+https://github.com/qiskit-community/Quantum-Challenge-Grader.git->qc-grader[jupyter,qiskit]@ git+https://github.com/qiskit-community/Quantum-Challenge-Grader.git) (3.10.0)\n",
            "Requirement already satisfied: pydot in /usr/local/lib/python3.11/dist-packages (from qiskit[visualization]~=2.1.0; extra == \"qiskit\"->qc-grader@ git+https://github.com/qiskit-community/Quantum-Challenge-Grader.git->qc-grader[jupyter,qiskit]@ git+https://github.com/qiskit-community/Quantum-Challenge-Grader.git) (3.0.4)\n",
            "Requirement already satisfied: Pillow>=4.2.1 in /usr/local/lib/python3.11/dist-packages (from qiskit[visualization]~=2.1.0; extra == \"qiskit\"->qc-grader@ git+https://github.com/qiskit-community/Quantum-Challenge-Grader.git->qc-grader[jupyter,qiskit]@ git+https://github.com/qiskit-community/Quantum-Challenge-Grader.git) (11.2.1)\n",
            "Collecting pylatexenc>=1.4 (from qiskit[visualization]~=2.1.0; extra == \"qiskit\"->qc-grader@ git+https://github.com/qiskit-community/Quantum-Challenge-Grader.git->qc-grader[jupyter,qiskit]@ git+https://github.com/qiskit-community/Quantum-Challenge-Grader.git)\n",
            "  Downloading pylatexenc-2.10.tar.gz (162 kB)\n",
            "\u001b[2K     \u001b[90m━━━━━━━━━━━━━━━━━━━━━━━━━━━━━━━━━━━━━━━\u001b[0m \u001b[32m162.6/162.6 kB\u001b[0m \u001b[31m4.7 MB/s\u001b[0m eta \u001b[36m0:00:00\u001b[0m\n",
            "\u001b[?25h  Preparing metadata (setup.py) ... \u001b[?25l\u001b[?25hdone\n",
            "Requirement already satisfied: seaborn>=0.9.0 in /usr/local/lib/python3.11/dist-packages (from qiskit[visualization]~=2.1.0; extra == \"qiskit\"->qc-grader@ git+https://github.com/qiskit-community/Quantum-Challenge-Grader.git->qc-grader[jupyter,qiskit]@ git+https://github.com/qiskit-community/Quantum-Challenge-Grader.git) (0.13.2)\n",
            "Requirement already satisfied: sympy>=1.3 in /usr/local/lib/python3.11/dist-packages (from qiskit[visualization]~=2.1.0; extra == \"qiskit\"->qc-grader@ git+https://github.com/qiskit-community/Quantum-Challenge-Grader.git->qc-grader[jupyter,qiskit]@ git+https://github.com/qiskit-community/Quantum-Challenge-Grader.git) (1.13.1)\n",
            "Requirement already satisfied: ipywidgets>=7.6.0 in /usr/local/lib/python3.11/dist-packages (from ipycytoscape->qc-grader@ git+https://github.com/qiskit-community/Quantum-Challenge-Grader.git->qc-grader[jupyter,qiskit]@ git+https://github.com/qiskit-community/Quantum-Challenge-Grader.git) (7.7.1)\n",
            "Collecting spectate>=1.0.0 (from ipycytoscape->qc-grader@ git+https://github.com/qiskit-community/Quantum-Challenge-Grader.git->qc-grader[jupyter,qiskit]@ git+https://github.com/qiskit-community/Quantum-Challenge-Grader.git)\n",
            "  Downloading spectate-1.0.1-py2.py3-none-any.whl.metadata (2.2 kB)\n",
            "Requirement already satisfied: debugpy>=1.0 in /usr/local/lib/python3.11/dist-packages (from ipykernel->qc-grader@ git+https://github.com/qiskit-community/Quantum-Challenge-Grader.git->qc-grader[jupyter,qiskit]@ git+https://github.com/qiskit-community/Quantum-Challenge-Grader.git) (1.8.0)\n",
            "Requirement already satisfied: ipython>=7.23.1 in /usr/local/lib/python3.11/dist-packages (from ipykernel->qc-grader@ git+https://github.com/qiskit-community/Quantum-Challenge-Grader.git->qc-grader[jupyter,qiskit]@ git+https://github.com/qiskit-community/Quantum-Challenge-Grader.git) (7.34.0)\n",
            "Requirement already satisfied: jupyter-client>=6.1.12 in /usr/local/lib/python3.11/dist-packages (from ipykernel->qc-grader@ git+https://github.com/qiskit-community/Quantum-Challenge-Grader.git->qc-grader[jupyter,qiskit]@ git+https://github.com/qiskit-community/Quantum-Challenge-Grader.git) (6.1.12)\n",
            "Requirement already satisfied: matplotlib-inline>=0.1 in /usr/local/lib/python3.11/dist-packages (from ipykernel->qc-grader@ git+https://github.com/qiskit-community/Quantum-Challenge-Grader.git->qc-grader[jupyter,qiskit]@ git+https://github.com/qiskit-community/Quantum-Challenge-Grader.git) (0.1.7)\n",
            "Requirement already satisfied: nest-asyncio in /usr/local/lib/python3.11/dist-packages (from ipykernel->qc-grader@ git+https://github.com/qiskit-community/Quantum-Challenge-Grader.git->qc-grader[jupyter,qiskit]@ git+https://github.com/qiskit-community/Quantum-Challenge-Grader.git) (1.6.0)\n",
            "Requirement already satisfied: packaging in /usr/local/lib/python3.11/dist-packages (from ipykernel->qc-grader@ git+https://github.com/qiskit-community/Quantum-Challenge-Grader.git->qc-grader[jupyter,qiskit]@ git+https://github.com/qiskit-community/Quantum-Challenge-Grader.git) (24.2)\n",
            "Requirement already satisfied: psutil in /usr/local/lib/python3.11/dist-packages (from ipykernel->qc-grader@ git+https://github.com/qiskit-community/Quantum-Challenge-Grader.git->qc-grader[jupyter,qiskit]@ git+https://github.com/qiskit-community/Quantum-Challenge-Grader.git) (5.9.5)\n",
            "Requirement already satisfied: pyzmq>=17 in /usr/local/lib/python3.11/dist-packages (from ipykernel->qc-grader@ git+https://github.com/qiskit-community/Quantum-Challenge-Grader.git->qc-grader[jupyter,qiskit]@ git+https://github.com/qiskit-community/Quantum-Challenge-Grader.git) (24.0.1)\n",
            "Requirement already satisfied: tornado>=6.1 in /usr/local/lib/python3.11/dist-packages (from ipykernel->qc-grader@ git+https://github.com/qiskit-community/Quantum-Challenge-Grader.git->qc-grader[jupyter,qiskit]@ git+https://github.com/qiskit-community/Quantum-Challenge-Grader.git) (6.4.2)\n",
            "Requirement already satisfied: traitlets>=5.1.0 in /usr/local/lib/python3.11/dist-packages (from ipykernel->qc-grader@ git+https://github.com/qiskit-community/Quantum-Challenge-Grader.git->qc-grader[jupyter,qiskit]@ git+https://github.com/qiskit-community/Quantum-Challenge-Grader.git) (5.7.1)\n",
            "Collecting async-lru>=1.0.0 (from jupyterlab->qc-grader@ git+https://github.com/qiskit-community/Quantum-Challenge-Grader.git->qc-grader[jupyter,qiskit]@ git+https://github.com/qiskit-community/Quantum-Challenge-Grader.git)\n",
            "  Downloading async_lru-2.0.5-py3-none-any.whl.metadata (4.5 kB)\n",
            "Requirement already satisfied: httpx>=0.25.0 in /usr/local/lib/python3.11/dist-packages (from jupyterlab->qc-grader@ git+https://github.com/qiskit-community/Quantum-Challenge-Grader.git->qc-grader[jupyter,qiskit]@ git+https://github.com/qiskit-community/Quantum-Challenge-Grader.git) (0.28.1)\n",
            "Requirement already satisfied: jinja2>=3.0.3 in /usr/local/lib/python3.11/dist-packages (from jupyterlab->qc-grader@ git+https://github.com/qiskit-community/Quantum-Challenge-Grader.git->qc-grader[jupyter,qiskit]@ git+https://github.com/qiskit-community/Quantum-Challenge-Grader.git) (3.1.6)\n",
            "Requirement already satisfied: jupyter-core in /usr/local/lib/python3.11/dist-packages (from jupyterlab->qc-grader@ git+https://github.com/qiskit-community/Quantum-Challenge-Grader.git->qc-grader[jupyter,qiskit]@ git+https://github.com/qiskit-community/Quantum-Challenge-Grader.git) (5.8.1)\n",
            "Collecting jupyter-lsp>=2.0.0 (from jupyterlab->qc-grader@ git+https://github.com/qiskit-community/Quantum-Challenge-Grader.git->qc-grader[jupyter,qiskit]@ git+https://github.com/qiskit-community/Quantum-Challenge-Grader.git)\n",
            "  Downloading jupyter_lsp-2.2.5-py3-none-any.whl.metadata (1.8 kB)\n",
            "Collecting jupyter-server<3,>=2.4.0 (from jupyterlab->qc-grader@ git+https://github.com/qiskit-community/Quantum-Challenge-Grader.git->qc-grader[jupyter,qiskit]@ git+https://github.com/qiskit-community/Quantum-Challenge-Grader.git)\n",
            "  Downloading jupyter_server-2.16.0-py3-none-any.whl.metadata (8.5 kB)\n",
            "Collecting jupyterlab-server<3,>=2.27.1 (from jupyterlab->qc-grader@ git+https://github.com/qiskit-community/Quantum-Challenge-Grader.git->qc-grader[jupyter,qiskit]@ git+https://github.com/qiskit-community/Quantum-Challenge-Grader.git)\n",
            "  Downloading jupyterlab_server-2.27.3-py3-none-any.whl.metadata (5.9 kB)\n",
            "Requirement already satisfied: notebook-shim>=0.2 in /usr/local/lib/python3.11/dist-packages (from jupyterlab->qc-grader@ git+https://github.com/qiskit-community/Quantum-Challenge-Grader.git->qc-grader[jupyter,qiskit]@ git+https://github.com/qiskit-community/Quantum-Challenge-Grader.git) (0.2.4)\n",
            "Requirement already satisfied: setuptools>=41.1.0 in /usr/local/lib/python3.11/dist-packages (from jupyterlab->qc-grader@ git+https://github.com/qiskit-community/Quantum-Challenge-Grader.git->qc-grader[jupyter,qiskit]@ git+https://github.com/qiskit-community/Quantum-Challenge-Grader.git) (75.2.0)\n",
            "Requirement already satisfied: tenacity>=6.2.0 in /usr/local/lib/python3.11/dist-packages (from plotly->qc-grader@ git+https://github.com/qiskit-community/Quantum-Challenge-Grader.git->qc-grader[jupyter,qiskit]@ git+https://github.com/qiskit-community/Quantum-Challenge-Grader.git) (8.5.0)\n",
            "Requirement already satisfied: python-dateutil>=2.8.0 in /usr/local/lib/python3.11/dist-packages (from qiskit-aer->qc-grader@ git+https://github.com/qiskit-community/Quantum-Challenge-Grader.git->qc-grader[jupyter,qiskit]@ git+https://github.com/qiskit-community/Quantum-Challenge-Grader.git) (2.9.0.post0)\n",
            "Collecting requests-ntlm>=1.1.0 (from qiskit-ibm-runtime->qc-grader@ git+https://github.com/qiskit-community/Quantum-Challenge-Grader.git->qc-grader[jupyter,qiskit]@ git+https://github.com/qiskit-community/Quantum-Challenge-Grader.git)\n",
            "  Downloading requests_ntlm-1.3.0-py3-none-any.whl.metadata (2.4 kB)\n",
            "Requirement already satisfied: pydantic>=2.5.0 in /usr/local/lib/python3.11/dist-packages (from qiskit-ibm-runtime->qc-grader@ git+https://github.com/qiskit-community/Quantum-Challenge-Grader.git->qc-grader[jupyter,qiskit]@ git+https://github.com/qiskit-community/Quantum-Challenge-Grader.git) (2.11.7)\n",
            "Requirement already satisfied: anyio in /usr/local/lib/python3.11/dist-packages (from httpx>=0.25.0->jupyterlab->qc-grader@ git+https://github.com/qiskit-community/Quantum-Challenge-Grader.git->qc-grader[jupyter,qiskit]@ git+https://github.com/qiskit-community/Quantum-Challenge-Grader.git) (4.9.0)\n",
            "Requirement already satisfied: httpcore==1.* in /usr/local/lib/python3.11/dist-packages (from httpx>=0.25.0->jupyterlab->qc-grader@ git+https://github.com/qiskit-community/Quantum-Challenge-Grader.git->qc-grader[jupyter,qiskit]@ git+https://github.com/qiskit-community/Quantum-Challenge-Grader.git) (1.0.9)\n",
            "Requirement already satisfied: h11>=0.16 in /usr/local/lib/python3.11/dist-packages (from httpcore==1.*->httpx>=0.25.0->jupyterlab->qc-grader@ git+https://github.com/qiskit-community/Quantum-Challenge-Grader.git->qc-grader[jupyter,qiskit]@ git+https://github.com/qiskit-community/Quantum-Challenge-Grader.git) (0.16.0)\n",
            "INFO: pip is looking at multiple versions of ibm-cloud-sdk-core to determine which version is compatible with other requirements. This could take a while.\n",
            "Collecting ibm_cloud_sdk_core<4.0.0,>=3.24.1 (from ibm-platform-services==0.66.1->qc-grader@ git+https://github.com/qiskit-community/Quantum-Challenge-Grader.git->qc-grader[jupyter,qiskit]@ git+https://github.com/qiskit-community/Quantum-Challenge-Grader.git)\n",
            "  Downloading ibm_cloud_sdk_core-3.24.1-py3-none-any.whl.metadata (8.7 kB)\n",
            "Requirement already satisfied: PyJWT<3.0.0,>=2.8.0 in /usr/local/lib/python3.11/dist-packages (from ibm_cloud_sdk_core<4.0.0,>=3.24.1->ibm-platform-services==0.66.1->qc-grader@ git+https://github.com/qiskit-community/Quantum-Challenge-Grader.git->qc-grader[jupyter,qiskit]@ git+https://github.com/qiskit-community/Quantum-Challenge-Grader.git) (2.10.1)\n",
            "Collecting jedi>=0.16 (from ipython>=7.23.1->ipykernel->qc-grader@ git+https://github.com/qiskit-community/Quantum-Challenge-Grader.git->qc-grader[jupyter,qiskit]@ git+https://github.com/qiskit-community/Quantum-Challenge-Grader.git)\n",
            "  Downloading jedi-0.19.2-py2.py3-none-any.whl.metadata (22 kB)\n",
            "Requirement already satisfied: decorator in /usr/local/lib/python3.11/dist-packages (from ipython>=7.23.1->ipykernel->qc-grader@ git+https://github.com/qiskit-community/Quantum-Challenge-Grader.git->qc-grader[jupyter,qiskit]@ git+https://github.com/qiskit-community/Quantum-Challenge-Grader.git) (4.4.2)\n",
            "Requirement already satisfied: pickleshare in /usr/local/lib/python3.11/dist-packages (from ipython>=7.23.1->ipykernel->qc-grader@ git+https://github.com/qiskit-community/Quantum-Challenge-Grader.git->qc-grader[jupyter,qiskit]@ git+https://github.com/qiskit-community/Quantum-Challenge-Grader.git) (0.7.5)\n",
            "Requirement already satisfied: prompt-toolkit!=3.0.0,!=3.0.1,<3.1.0,>=2.0.0 in /usr/local/lib/python3.11/dist-packages (from ipython>=7.23.1->ipykernel->qc-grader@ git+https://github.com/qiskit-community/Quantum-Challenge-Grader.git->qc-grader[jupyter,qiskit]@ git+https://github.com/qiskit-community/Quantum-Challenge-Grader.git) (3.0.51)\n",
            "Requirement already satisfied: pygments in /usr/local/lib/python3.11/dist-packages (from ipython>=7.23.1->ipykernel->qc-grader@ git+https://github.com/qiskit-community/Quantum-Challenge-Grader.git->qc-grader[jupyter,qiskit]@ git+https://github.com/qiskit-community/Quantum-Challenge-Grader.git) (2.19.2)\n",
            "Requirement already satisfied: backcall in /usr/local/lib/python3.11/dist-packages (from ipython>=7.23.1->ipykernel->qc-grader@ git+https://github.com/qiskit-community/Quantum-Challenge-Grader.git->qc-grader[jupyter,qiskit]@ git+https://github.com/qiskit-community/Quantum-Challenge-Grader.git) (0.2.0)\n",
            "Requirement already satisfied: pexpect>4.3 in /usr/local/lib/python3.11/dist-packages (from ipython>=7.23.1->ipykernel->qc-grader@ git+https://github.com/qiskit-community/Quantum-Challenge-Grader.git->qc-grader[jupyter,qiskit]@ git+https://github.com/qiskit-community/Quantum-Challenge-Grader.git) (4.9.0)\n",
            "Requirement already satisfied: ipython-genutils~=0.2.0 in /usr/local/lib/python3.11/dist-packages (from ipywidgets>=7.6.0->ipycytoscape->qc-grader@ git+https://github.com/qiskit-community/Quantum-Challenge-Grader.git->qc-grader[jupyter,qiskit]@ git+https://github.com/qiskit-community/Quantum-Challenge-Grader.git) (0.2.0)\n",
            "Requirement already satisfied: widgetsnbextension~=3.6.0 in /usr/local/lib/python3.11/dist-packages (from ipywidgets>=7.6.0->ipycytoscape->qc-grader@ git+https://github.com/qiskit-community/Quantum-Challenge-Grader.git->qc-grader[jupyter,qiskit]@ git+https://github.com/qiskit-community/Quantum-Challenge-Grader.git) (3.6.10)\n",
            "Requirement already satisfied: jupyterlab-widgets>=1.0.0 in /usr/local/lib/python3.11/dist-packages (from ipywidgets>=7.6.0->ipycytoscape->qc-grader@ git+https://github.com/qiskit-community/Quantum-Challenge-Grader.git->qc-grader[jupyter,qiskit]@ git+https://github.com/qiskit-community/Quantum-Challenge-Grader.git) (3.0.15)\n",
            "Requirement already satisfied: MarkupSafe>=2.0 in /usr/local/lib/python3.11/dist-packages (from jinja2>=3.0.3->jupyterlab->qc-grader@ git+https://github.com/qiskit-community/Quantum-Challenge-Grader.git->qc-grader[jupyter,qiskit]@ git+https://github.com/qiskit-community/Quantum-Challenge-Grader.git) (3.0.2)\n",
            "Requirement already satisfied: platformdirs>=2.5 in /usr/local/lib/python3.11/dist-packages (from jupyter-core->jupyterlab->qc-grader@ git+https://github.com/qiskit-community/Quantum-Challenge-Grader.git->qc-grader[jupyter,qiskit]@ git+https://github.com/qiskit-community/Quantum-Challenge-Grader.git) (4.3.8)\n",
            "Requirement already satisfied: argon2-cffi>=21.1 in /usr/local/lib/python3.11/dist-packages (from jupyter-server<3,>=2.4.0->jupyterlab->qc-grader@ git+https://github.com/qiskit-community/Quantum-Challenge-Grader.git->qc-grader[jupyter,qiskit]@ git+https://github.com/qiskit-community/Quantum-Challenge-Grader.git) (25.1.0)\n",
            "Collecting jupyter-client>=6.1.12 (from ipykernel->qc-grader@ git+https://github.com/qiskit-community/Quantum-Challenge-Grader.git->qc-grader[jupyter,qiskit]@ git+https://github.com/qiskit-community/Quantum-Challenge-Grader.git)\n",
            "  Downloading jupyter_client-8.6.3-py3-none-any.whl.metadata (8.3 kB)\n",
            "Collecting jupyter-events>=0.11.0 (from jupyter-server<3,>=2.4.0->jupyterlab->qc-grader@ git+https://github.com/qiskit-community/Quantum-Challenge-Grader.git->qc-grader[jupyter,qiskit]@ git+https://github.com/qiskit-community/Quantum-Challenge-Grader.git)\n",
            "  Downloading jupyter_events-0.12.0-py3-none-any.whl.metadata (5.8 kB)\n",
            "Collecting jupyter-server-terminals>=0.4.4 (from jupyter-server<3,>=2.4.0->jupyterlab->qc-grader@ git+https://github.com/qiskit-community/Quantum-Challenge-Grader.git->qc-grader[jupyter,qiskit]@ git+https://github.com/qiskit-community/Quantum-Challenge-Grader.git)\n",
            "  Downloading jupyter_server_terminals-0.5.3-py3-none-any.whl.metadata (5.6 kB)\n",
            "Requirement already satisfied: nbconvert>=6.4.4 in /usr/local/lib/python3.11/dist-packages (from jupyter-server<3,>=2.4.0->jupyterlab->qc-grader@ git+https://github.com/qiskit-community/Quantum-Challenge-Grader.git->qc-grader[jupyter,qiskit]@ git+https://github.com/qiskit-community/Quantum-Challenge-Grader.git) (7.16.6)\n",
            "Requirement already satisfied: nbformat>=5.3.0 in /usr/local/lib/python3.11/dist-packages (from jupyter-server<3,>=2.4.0->jupyterlab->qc-grader@ git+https://github.com/qiskit-community/Quantum-Challenge-Grader.git->qc-grader[jupyter,qiskit]@ git+https://github.com/qiskit-community/Quantum-Challenge-Grader.git) (5.10.4)\n",
            "Collecting overrides>=5.0 (from jupyter-server<3,>=2.4.0->jupyterlab->qc-grader@ git+https://github.com/qiskit-community/Quantum-Challenge-Grader.git->qc-grader[jupyter,qiskit]@ git+https://github.com/qiskit-community/Quantum-Challenge-Grader.git)\n",
            "  Downloading overrides-7.7.0-py3-none-any.whl.metadata (5.8 kB)\n",
            "Requirement already satisfied: prometheus-client>=0.9 in /usr/local/lib/python3.11/dist-packages (from jupyter-server<3,>=2.4.0->jupyterlab->qc-grader@ git+https://github.com/qiskit-community/Quantum-Challenge-Grader.git->qc-grader[jupyter,qiskit]@ git+https://github.com/qiskit-community/Quantum-Challenge-Grader.git) (0.22.1)\n",
            "Requirement already satisfied: send2trash>=1.8.2 in /usr/local/lib/python3.11/dist-packages (from jupyter-server<3,>=2.4.0->jupyterlab->qc-grader@ git+https://github.com/qiskit-community/Quantum-Challenge-Grader.git->qc-grader[jupyter,qiskit]@ git+https://github.com/qiskit-community/Quantum-Challenge-Grader.git) (1.8.3)\n",
            "Requirement already satisfied: terminado>=0.8.3 in /usr/local/lib/python3.11/dist-packages (from jupyter-server<3,>=2.4.0->jupyterlab->qc-grader@ git+https://github.com/qiskit-community/Quantum-Challenge-Grader.git->qc-grader[jupyter,qiskit]@ git+https://github.com/qiskit-community/Quantum-Challenge-Grader.git) (0.18.1)\n",
            "Requirement already satisfied: websocket-client>=1.7 in /usr/local/lib/python3.11/dist-packages (from jupyter-server<3,>=2.4.0->jupyterlab->qc-grader@ git+https://github.com/qiskit-community/Quantum-Challenge-Grader.git->qc-grader[jupyter,qiskit]@ git+https://github.com/qiskit-community/Quantum-Challenge-Grader.git) (1.8.0)\n",
            "Requirement already satisfied: babel>=2.10 in /usr/local/lib/python3.11/dist-packages (from jupyterlab-server<3,>=2.27.1->jupyterlab->qc-grader@ git+https://github.com/qiskit-community/Quantum-Challenge-Grader.git->qc-grader[jupyter,qiskit]@ git+https://github.com/qiskit-community/Quantum-Challenge-Grader.git) (2.17.0)\n",
            "Collecting json5>=0.9.0 (from jupyterlab-server<3,>=2.27.1->jupyterlab->qc-grader@ git+https://github.com/qiskit-community/Quantum-Challenge-Grader.git->qc-grader[jupyter,qiskit]@ git+https://github.com/qiskit-community/Quantum-Challenge-Grader.git)\n",
            "  Downloading json5-0.12.0-py3-none-any.whl.metadata (36 kB)\n",
            "Requirement already satisfied: jsonschema>=4.18.0 in /usr/local/lib/python3.11/dist-packages (from jupyterlab-server<3,>=2.27.1->jupyterlab->qc-grader@ git+https://github.com/qiskit-community/Quantum-Challenge-Grader.git->qc-grader[jupyter,qiskit]@ git+https://github.com/qiskit-community/Quantum-Challenge-Grader.git) (4.24.0)\n",
            "Requirement already satisfied: contourpy>=1.0.1 in /usr/local/lib/python3.11/dist-packages (from matplotlib>=3.3->qiskit[visualization]~=2.1.0; extra == \"qiskit\"->qc-grader@ git+https://github.com/qiskit-community/Quantum-Challenge-Grader.git->qc-grader[jupyter,qiskit]@ git+https://github.com/qiskit-community/Quantum-Challenge-Grader.git) (1.3.2)\n",
            "Requirement already satisfied: cycler>=0.10 in /usr/local/lib/python3.11/dist-packages (from matplotlib>=3.3->qiskit[visualization]~=2.1.0; extra == \"qiskit\"->qc-grader@ git+https://github.com/qiskit-community/Quantum-Challenge-Grader.git->qc-grader[jupyter,qiskit]@ git+https://github.com/qiskit-community/Quantum-Challenge-Grader.git) (0.12.1)\n",
            "Requirement already satisfied: fonttools>=4.22.0 in /usr/local/lib/python3.11/dist-packages (from matplotlib>=3.3->qiskit[visualization]~=2.1.0; extra == \"qiskit\"->qc-grader@ git+https://github.com/qiskit-community/Quantum-Challenge-Grader.git->qc-grader[jupyter,qiskit]@ git+https://github.com/qiskit-community/Quantum-Challenge-Grader.git) (4.58.4)\n",
            "Requirement already satisfied: kiwisolver>=1.3.1 in /usr/local/lib/python3.11/dist-packages (from matplotlib>=3.3->qiskit[visualization]~=2.1.0; extra == \"qiskit\"->qc-grader@ git+https://github.com/qiskit-community/Quantum-Challenge-Grader.git->qc-grader[jupyter,qiskit]@ git+https://github.com/qiskit-community/Quantum-Challenge-Grader.git) (1.4.8)\n",
            "Requirement already satisfied: pyparsing>=2.3.1 in /usr/local/lib/python3.11/dist-packages (from matplotlib>=3.3->qiskit[visualization]~=2.1.0; extra == \"qiskit\"->qc-grader@ git+https://github.com/qiskit-community/Quantum-Challenge-Grader.git->qc-grader[jupyter,qiskit]@ git+https://github.com/qiskit-community/Quantum-Challenge-Grader.git) (3.2.3)\n",
            "Requirement already satisfied: annotated-types>=0.6.0 in /usr/local/lib/python3.11/dist-packages (from pydantic>=2.5.0->qiskit-ibm-runtime->qc-grader@ git+https://github.com/qiskit-community/Quantum-Challenge-Grader.git->qc-grader[jupyter,qiskit]@ git+https://github.com/qiskit-community/Quantum-Challenge-Grader.git) (0.7.0)\n",
            "Requirement already satisfied: pydantic-core==2.33.2 in /usr/local/lib/python3.11/dist-packages (from pydantic>=2.5.0->qiskit-ibm-runtime->qc-grader@ git+https://github.com/qiskit-community/Quantum-Challenge-Grader.git->qc-grader[jupyter,qiskit]@ git+https://github.com/qiskit-community/Quantum-Challenge-Grader.git) (2.33.2)\n",
            "Requirement already satisfied: typing-inspection>=0.4.0 in /usr/local/lib/python3.11/dist-packages (from pydantic>=2.5.0->qiskit-ibm-runtime->qc-grader@ git+https://github.com/qiskit-community/Quantum-Challenge-Grader.git->qc-grader[jupyter,qiskit]@ git+https://github.com/qiskit-community/Quantum-Challenge-Grader.git) (0.4.1)\n",
            "Requirement already satisfied: six>=1.5 in /usr/local/lib/python3.11/dist-packages (from python-dateutil>=2.8.0->qiskit-aer->qc-grader@ git+https://github.com/qiskit-community/Quantum-Challenge-Grader.git->qc-grader[jupyter,qiskit]@ git+https://github.com/qiskit-community/Quantum-Challenge-Grader.git) (1.17.0)\n",
            "Requirement already satisfied: cryptography>=1.3 in /usr/local/lib/python3.11/dist-packages (from requests-ntlm>=1.1.0->qiskit-ibm-runtime->qc-grader@ git+https://github.com/qiskit-community/Quantum-Challenge-Grader.git->qc-grader[jupyter,qiskit]@ git+https://github.com/qiskit-community/Quantum-Challenge-Grader.git) (43.0.3)\n",
            "Collecting pyspnego>=0.4.0 (from requests-ntlm>=1.1.0->qiskit-ibm-runtime->qc-grader@ git+https://github.com/qiskit-community/Quantum-Challenge-Grader.git->qc-grader[jupyter,qiskit]@ git+https://github.com/qiskit-community/Quantum-Challenge-Grader.git)\n",
            "  Downloading pyspnego-0.11.2-py3-none-any.whl.metadata (5.4 kB)\n",
            "Requirement already satisfied: pandas>=1.2 in /usr/local/lib/python3.11/dist-packages (from seaborn>=0.9.0->qiskit[visualization]~=2.1.0; extra == \"qiskit\"->qc-grader@ git+https://github.com/qiskit-community/Quantum-Challenge-Grader.git->qc-grader[jupyter,qiskit]@ git+https://github.com/qiskit-community/Quantum-Challenge-Grader.git) (2.2.2)\n",
            "Requirement already satisfied: pbr>=2.0.0 in /usr/local/lib/python3.11/dist-packages (from stevedore>=3.0.0->qiskit~=2.1.0->qiskit[visualization]~=2.1.0; extra == \"qiskit\"->qc-grader@ git+https://github.com/qiskit-community/Quantum-Challenge-Grader.git->qc-grader[jupyter,qiskit]@ git+https://github.com/qiskit-community/Quantum-Challenge-Grader.git) (6.1.1)\n",
            "Requirement already satisfied: mpmath<1.4,>=1.1.0 in /usr/local/lib/python3.11/dist-packages (from sympy>=1.3->qiskit[visualization]~=2.1.0; extra == \"qiskit\"->qc-grader@ git+https://github.com/qiskit-community/Quantum-Challenge-Grader.git->qc-grader[jupyter,qiskit]@ git+https://github.com/qiskit-community/Quantum-Challenge-Grader.git) (1.3.0)\n",
            "Requirement already satisfied: sniffio>=1.1 in /usr/local/lib/python3.11/dist-packages (from anyio->httpx>=0.25.0->jupyterlab->qc-grader@ git+https://github.com/qiskit-community/Quantum-Challenge-Grader.git->qc-grader[jupyter,qiskit]@ git+https://github.com/qiskit-community/Quantum-Challenge-Grader.git) (1.3.1)\n",
            "Requirement already satisfied: argon2-cffi-bindings in /usr/local/lib/python3.11/dist-packages (from argon2-cffi>=21.1->jupyter-server<3,>=2.4.0->jupyterlab->qc-grader@ git+https://github.com/qiskit-community/Quantum-Challenge-Grader.git->qc-grader[jupyter,qiskit]@ git+https://github.com/qiskit-community/Quantum-Challenge-Grader.git) (21.2.0)\n",
            "Requirement already satisfied: cffi>=1.12 in /usr/local/lib/python3.11/dist-packages (from cryptography>=1.3->requests-ntlm>=1.1.0->qiskit-ibm-runtime->qc-grader@ git+https://github.com/qiskit-community/Quantum-Challenge-Grader.git->qc-grader[jupyter,qiskit]@ git+https://github.com/qiskit-community/Quantum-Challenge-Grader.git) (1.17.1)\n",
            "Requirement already satisfied: parso<0.9.0,>=0.8.4 in /usr/local/lib/python3.11/dist-packages (from jedi>=0.16->ipython>=7.23.1->ipykernel->qc-grader@ git+https://github.com/qiskit-community/Quantum-Challenge-Grader.git->qc-grader[jupyter,qiskit]@ git+https://github.com/qiskit-community/Quantum-Challenge-Grader.git) (0.8.4)\n",
            "Requirement already satisfied: attrs>=22.2.0 in /usr/local/lib/python3.11/dist-packages (from jsonschema>=4.18.0->jupyterlab-server<3,>=2.27.1->jupyterlab->qc-grader@ git+https://github.com/qiskit-community/Quantum-Challenge-Grader.git->qc-grader[jupyter,qiskit]@ git+https://github.com/qiskit-community/Quantum-Challenge-Grader.git) (25.3.0)\n",
            "Requirement already satisfied: jsonschema-specifications>=2023.03.6 in /usr/local/lib/python3.11/dist-packages (from jsonschema>=4.18.0->jupyterlab-server<3,>=2.27.1->jupyterlab->qc-grader@ git+https://github.com/qiskit-community/Quantum-Challenge-Grader.git->qc-grader[jupyter,qiskit]@ git+https://github.com/qiskit-community/Quantum-Challenge-Grader.git) (2025.4.1)\n",
            "Requirement already satisfied: referencing>=0.28.4 in /usr/local/lib/python3.11/dist-packages (from jsonschema>=4.18.0->jupyterlab-server<3,>=2.27.1->jupyterlab->qc-grader@ git+https://github.com/qiskit-community/Quantum-Challenge-Grader.git->qc-grader[jupyter,qiskit]@ git+https://github.com/qiskit-community/Quantum-Challenge-Grader.git) (0.36.2)\n",
            "Requirement already satisfied: rpds-py>=0.7.1 in /usr/local/lib/python3.11/dist-packages (from jsonschema>=4.18.0->jupyterlab-server<3,>=2.27.1->jupyterlab->qc-grader@ git+https://github.com/qiskit-community/Quantum-Challenge-Grader.git->qc-grader[jupyter,qiskit]@ git+https://github.com/qiskit-community/Quantum-Challenge-Grader.git) (0.26.0)\n",
            "Collecting python-json-logger>=2.0.4 (from jupyter-events>=0.11.0->jupyter-server<3,>=2.4.0->jupyterlab->qc-grader@ git+https://github.com/qiskit-community/Quantum-Challenge-Grader.git->qc-grader[jupyter,qiskit]@ git+https://github.com/qiskit-community/Quantum-Challenge-Grader.git)\n",
            "  Downloading python_json_logger-3.3.0-py3-none-any.whl.metadata (4.0 kB)\n",
            "Requirement already satisfied: pyyaml>=5.3 in /usr/local/lib/python3.11/dist-packages (from jupyter-events>=0.11.0->jupyter-server<3,>=2.4.0->jupyterlab->qc-grader@ git+https://github.com/qiskit-community/Quantum-Challenge-Grader.git->qc-grader[jupyter,qiskit]@ git+https://github.com/qiskit-community/Quantum-Challenge-Grader.git) (6.0.2)\n",
            "Collecting rfc3339-validator (from jupyter-events>=0.11.0->jupyter-server<3,>=2.4.0->jupyterlab->qc-grader@ git+https://github.com/qiskit-community/Quantum-Challenge-Grader.git->qc-grader[jupyter,qiskit]@ git+https://github.com/qiskit-community/Quantum-Challenge-Grader.git)\n",
            "  Downloading rfc3339_validator-0.1.4-py2.py3-none-any.whl.metadata (1.5 kB)\n",
            "Collecting rfc3986-validator>=0.1.1 (from jupyter-events>=0.11.0->jupyter-server<3,>=2.4.0->jupyterlab->qc-grader@ git+https://github.com/qiskit-community/Quantum-Challenge-Grader.git->qc-grader[jupyter,qiskit]@ git+https://github.com/qiskit-community/Quantum-Challenge-Grader.git)\n",
            "  Downloading rfc3986_validator-0.1.1-py2.py3-none-any.whl.metadata (1.7 kB)\n",
            "Requirement already satisfied: beautifulsoup4 in /usr/local/lib/python3.11/dist-packages (from nbconvert>=6.4.4->jupyter-server<3,>=2.4.0->jupyterlab->qc-grader@ git+https://github.com/qiskit-community/Quantum-Challenge-Grader.git->qc-grader[jupyter,qiskit]@ git+https://github.com/qiskit-community/Quantum-Challenge-Grader.git) (4.13.4)\n",
            "Requirement already satisfied: bleach!=5.0.0 in /usr/local/lib/python3.11/dist-packages (from bleach[css]!=5.0.0->nbconvert>=6.4.4->jupyter-server<3,>=2.4.0->jupyterlab->qc-grader@ git+https://github.com/qiskit-community/Quantum-Challenge-Grader.git->qc-grader[jupyter,qiskit]@ git+https://github.com/qiskit-community/Quantum-Challenge-Grader.git) (6.2.0)\n",
            "Requirement already satisfied: defusedxml in /usr/local/lib/python3.11/dist-packages (from nbconvert>=6.4.4->jupyter-server<3,>=2.4.0->jupyterlab->qc-grader@ git+https://github.com/qiskit-community/Quantum-Challenge-Grader.git->qc-grader[jupyter,qiskit]@ git+https://github.com/qiskit-community/Quantum-Challenge-Grader.git) (0.7.1)\n",
            "Requirement already satisfied: jupyterlab-pygments in /usr/local/lib/python3.11/dist-packages (from nbconvert>=6.4.4->jupyter-server<3,>=2.4.0->jupyterlab->qc-grader@ git+https://github.com/qiskit-community/Quantum-Challenge-Grader.git->qc-grader[jupyter,qiskit]@ git+https://github.com/qiskit-community/Quantum-Challenge-Grader.git) (0.3.0)\n",
            "Requirement already satisfied: mistune<4,>=2.0.3 in /usr/local/lib/python3.11/dist-packages (from nbconvert>=6.4.4->jupyter-server<3,>=2.4.0->jupyterlab->qc-grader@ git+https://github.com/qiskit-community/Quantum-Challenge-Grader.git->qc-grader[jupyter,qiskit]@ git+https://github.com/qiskit-community/Quantum-Challenge-Grader.git) (3.1.3)\n",
            "Requirement already satisfied: nbclient>=0.5.0 in /usr/local/lib/python3.11/dist-packages (from nbconvert>=6.4.4->jupyter-server<3,>=2.4.0->jupyterlab->qc-grader@ git+https://github.com/qiskit-community/Quantum-Challenge-Grader.git->qc-grader[jupyter,qiskit]@ git+https://github.com/qiskit-community/Quantum-Challenge-Grader.git) (0.10.2)\n",
            "Requirement already satisfied: pandocfilters>=1.4.1 in /usr/local/lib/python3.11/dist-packages (from nbconvert>=6.4.4->jupyter-server<3,>=2.4.0->jupyterlab->qc-grader@ git+https://github.com/qiskit-community/Quantum-Challenge-Grader.git->qc-grader[jupyter,qiskit]@ git+https://github.com/qiskit-community/Quantum-Challenge-Grader.git) (1.5.1)\n",
            "Requirement already satisfied: fastjsonschema>=2.15 in /usr/local/lib/python3.11/dist-packages (from nbformat>=5.3.0->jupyter-server<3,>=2.4.0->jupyterlab->qc-grader@ git+https://github.com/qiskit-community/Quantum-Challenge-Grader.git->qc-grader[jupyter,qiskit]@ git+https://github.com/qiskit-community/Quantum-Challenge-Grader.git) (2.21.1)\n",
            "Requirement already satisfied: pytz>=2020.1 in /usr/local/lib/python3.11/dist-packages (from pandas>=1.2->seaborn>=0.9.0->qiskit[visualization]~=2.1.0; extra == \"qiskit\"->qc-grader@ git+https://github.com/qiskit-community/Quantum-Challenge-Grader.git->qc-grader[jupyter,qiskit]@ git+https://github.com/qiskit-community/Quantum-Challenge-Grader.git) (2025.2)\n",
            "Requirement already satisfied: tzdata>=2022.7 in /usr/local/lib/python3.11/dist-packages (from pandas>=1.2->seaborn>=0.9.0->qiskit[visualization]~=2.1.0; extra == \"qiskit\"->qc-grader@ git+https://github.com/qiskit-community/Quantum-Challenge-Grader.git->qc-grader[jupyter,qiskit]@ git+https://github.com/qiskit-community/Quantum-Challenge-Grader.git) (2025.2)\n",
            "Requirement already satisfied: ptyprocess>=0.5 in /usr/local/lib/python3.11/dist-packages (from pexpect>4.3->ipython>=7.23.1->ipykernel->qc-grader@ git+https://github.com/qiskit-community/Quantum-Challenge-Grader.git->qc-grader[jupyter,qiskit]@ git+https://github.com/qiskit-community/Quantum-Challenge-Grader.git) (0.7.0)\n",
            "Requirement already satisfied: wcwidth in /usr/local/lib/python3.11/dist-packages (from prompt-toolkit!=3.0.0,!=3.0.1,<3.1.0,>=2.0.0->ipython>=7.23.1->ipykernel->qc-grader@ git+https://github.com/qiskit-community/Quantum-Challenge-Grader.git->qc-grader[jupyter,qiskit]@ git+https://github.com/qiskit-community/Quantum-Challenge-Grader.git) (0.2.13)\n",
            "Requirement already satisfied: notebook>=4.4.1 in /usr/local/lib/python3.11/dist-packages (from widgetsnbextension~=3.6.0->ipywidgets>=7.6.0->ipycytoscape->qc-grader@ git+https://github.com/qiskit-community/Quantum-Challenge-Grader.git->qc-grader[jupyter,qiskit]@ git+https://github.com/qiskit-community/Quantum-Challenge-Grader.git) (6.5.7)\n",
            "Requirement already satisfied: webencodings in /usr/local/lib/python3.11/dist-packages (from bleach!=5.0.0->bleach[css]!=5.0.0->nbconvert>=6.4.4->jupyter-server<3,>=2.4.0->jupyterlab->qc-grader@ git+https://github.com/qiskit-community/Quantum-Challenge-Grader.git->qc-grader[jupyter,qiskit]@ git+https://github.com/qiskit-community/Quantum-Challenge-Grader.git) (0.5.1)\n",
            "Requirement already satisfied: tinycss2<1.5,>=1.1.0 in /usr/local/lib/python3.11/dist-packages (from bleach[css]!=5.0.0->nbconvert>=6.4.4->jupyter-server<3,>=2.4.0->jupyterlab->qc-grader@ git+https://github.com/qiskit-community/Quantum-Challenge-Grader.git->qc-grader[jupyter,qiskit]@ git+https://github.com/qiskit-community/Quantum-Challenge-Grader.git) (1.4.0)\n",
            "Requirement already satisfied: pycparser in /usr/local/lib/python3.11/dist-packages (from cffi>=1.12->cryptography>=1.3->requests-ntlm>=1.1.0->qiskit-ibm-runtime->qc-grader@ git+https://github.com/qiskit-community/Quantum-Challenge-Grader.git->qc-grader[jupyter,qiskit]@ git+https://github.com/qiskit-community/Quantum-Challenge-Grader.git) (2.22)\n",
            "Collecting fqdn (from jsonschema[format-nongpl]>=4.18.0->jupyter-events>=0.11.0->jupyter-server<3,>=2.4.0->jupyterlab->qc-grader@ git+https://github.com/qiskit-community/Quantum-Challenge-Grader.git->qc-grader[jupyter,qiskit]@ git+https://github.com/qiskit-community/Quantum-Challenge-Grader.git)\n",
            "  Downloading fqdn-1.5.1-py3-none-any.whl.metadata (1.4 kB)\n",
            "Collecting isoduration (from jsonschema[format-nongpl]>=4.18.0->jupyter-events>=0.11.0->jupyter-server<3,>=2.4.0->jupyterlab->qc-grader@ git+https://github.com/qiskit-community/Quantum-Challenge-Grader.git->qc-grader[jupyter,qiskit]@ git+https://github.com/qiskit-community/Quantum-Challenge-Grader.git)\n",
            "  Downloading isoduration-20.11.0-py3-none-any.whl.metadata (5.7 kB)\n",
            "Requirement already satisfied: jsonpointer>1.13 in /usr/local/lib/python3.11/dist-packages (from jsonschema[format-nongpl]>=4.18.0->jupyter-events>=0.11.0->jupyter-server<3,>=2.4.0->jupyterlab->qc-grader@ git+https://github.com/qiskit-community/Quantum-Challenge-Grader.git->qc-grader[jupyter,qiskit]@ git+https://github.com/qiskit-community/Quantum-Challenge-Grader.git) (3.0.0)\n",
            "Collecting uri-template (from jsonschema[format-nongpl]>=4.18.0->jupyter-events>=0.11.0->jupyter-server<3,>=2.4.0->jupyterlab->qc-grader@ git+https://github.com/qiskit-community/Quantum-Challenge-Grader.git->qc-grader[jupyter,qiskit]@ git+https://github.com/qiskit-community/Quantum-Challenge-Grader.git)\n",
            "  Downloading uri_template-1.3.0-py3-none-any.whl.metadata (8.8 kB)\n",
            "Requirement already satisfied: webcolors>=24.6.0 in /usr/local/lib/python3.11/dist-packages (from jsonschema[format-nongpl]>=4.18.0->jupyter-events>=0.11.0->jupyter-server<3,>=2.4.0->jupyterlab->qc-grader@ git+https://github.com/qiskit-community/Quantum-Challenge-Grader.git->qc-grader[jupyter,qiskit]@ git+https://github.com/qiskit-community/Quantum-Challenge-Grader.git) (24.11.1)\n",
            "Collecting jupyter-client>=6.1.12 (from ipykernel->qc-grader@ git+https://github.com/qiskit-community/Quantum-Challenge-Grader.git->qc-grader[jupyter,qiskit]@ git+https://github.com/qiskit-community/Quantum-Challenge-Grader.git)\n",
            "  Downloading jupyter_client-7.4.9-py3-none-any.whl.metadata (8.5 kB)\n",
            "Requirement already satisfied: nbclassic>=0.4.7 in /usr/local/lib/python3.11/dist-packages (from notebook>=4.4.1->widgetsnbextension~=3.6.0->ipywidgets>=7.6.0->ipycytoscape->qc-grader@ git+https://github.com/qiskit-community/Quantum-Challenge-Grader.git->qc-grader[jupyter,qiskit]@ git+https://github.com/qiskit-community/Quantum-Challenge-Grader.git) (1.3.1)\n",
            "Requirement already satisfied: entrypoints in /usr/local/lib/python3.11/dist-packages (from jupyter-client>=6.1.12->ipykernel->qc-grader@ git+https://github.com/qiskit-community/Quantum-Challenge-Grader.git->qc-grader[jupyter,qiskit]@ git+https://github.com/qiskit-community/Quantum-Challenge-Grader.git) (0.4)\n",
            "Requirement already satisfied: soupsieve>1.2 in /usr/local/lib/python3.11/dist-packages (from beautifulsoup4->nbconvert>=6.4.4->jupyter-server<3,>=2.4.0->jupyterlab->qc-grader@ git+https://github.com/qiskit-community/Quantum-Challenge-Grader.git->qc-grader[jupyter,qiskit]@ git+https://github.com/qiskit-community/Quantum-Challenge-Grader.git) (2.7)\n",
            "Collecting arrow>=0.15.0 (from isoduration->jsonschema[format-nongpl]>=4.18.0->jupyter-events>=0.11.0->jupyter-server<3,>=2.4.0->jupyterlab->qc-grader@ git+https://github.com/qiskit-community/Quantum-Challenge-Grader.git->qc-grader[jupyter,qiskit]@ git+https://github.com/qiskit-community/Quantum-Challenge-Grader.git)\n",
            "  Downloading arrow-1.3.0-py3-none-any.whl.metadata (7.5 kB)\n",
            "Collecting types-python-dateutil>=2.8.10 (from arrow>=0.15.0->isoduration->jsonschema[format-nongpl]>=4.18.0->jupyter-events>=0.11.0->jupyter-server<3,>=2.4.0->jupyterlab->qc-grader@ git+https://github.com/qiskit-community/Quantum-Challenge-Grader.git->qc-grader[jupyter,qiskit]@ git+https://github.com/qiskit-community/Quantum-Challenge-Grader.git)\n",
            "  Downloading types_python_dateutil-2.9.0.20250516-py3-none-any.whl.metadata (2.1 kB)\n",
            "Downloading ibm_platform_services-0.66.1-py3-none-any.whl (363 kB)\n",
            "\u001b[2K   \u001b[90m━━━━━━━━━━━━━━━━━━━━━━━━━━━━━━━━━━━━━━━━\u001b[0m \u001b[32m363.9/363.9 kB\u001b[0m \u001b[31m14.6 MB/s\u001b[0m eta \u001b[36m0:00:00\u001b[0m\n",
            "\u001b[?25hDownloading jsonpickle-3.0.3-py3-none-any.whl (40 kB)\n",
            "\u001b[2K   \u001b[90m━━━━━━━━━━━━━━━━━━━━━━━━━━━━━━━━━━━━━━━━\u001b[0m \u001b[32m40.8/40.8 kB\u001b[0m \u001b[31m2.5 MB/s\u001b[0m eta \u001b[36m0:00:00\u001b[0m\n",
            "\u001b[?25hDownloading networkx-3.2.1-py3-none-any.whl (1.6 MB)\n",
            "\u001b[2K   \u001b[90m━━━━━━━━━━━━━━━━━━━━━━━━━━━━━━━━━━━━━━━━\u001b[0m \u001b[32m1.6/1.6 MB\u001b[0m \u001b[31m44.1 MB/s\u001b[0m eta \u001b[36m0:00:00\u001b[0m\n",
            "\u001b[?25hDownloading ipycytoscape-1.3.3-py2.py3-none-any.whl (3.6 MB)\n",
            "\u001b[2K   \u001b[90m━━━━━━━━━━━━━━━━━━━━━━━━━━━━━━━━━━━━━━━━\u001b[0m \u001b[32m3.6/3.6 MB\u001b[0m \u001b[31m87.2 MB/s\u001b[0m eta \u001b[36m0:00:00\u001b[0m\n",
            "\u001b[?25hDownloading jupyterlab-4.4.4-py3-none-any.whl (12.3 MB)\n",
            "\u001b[2K   \u001b[90m━━━━━━━━━━━━━━━━━━━━━━━━━━━━━━━━━━━━━━━━\u001b[0m \u001b[32m12.3/12.3 MB\u001b[0m \u001b[31m100.7 MB/s\u001b[0m eta \u001b[36m0:00:00\u001b[0m\n",
            "\u001b[?25hDownloading qiskit_aer-0.17.1-cp311-cp311-manylinux_2_17_x86_64.manylinux2014_x86_64.whl (12.4 MB)\n",
            "\u001b[2K   \u001b[90m━━━━━━━━━━━━━━━━━━━━━━━━━━━━━━━━━━━━━━━━\u001b[0m \u001b[32m12.4/12.4 MB\u001b[0m \u001b[31m90.5 MB/s\u001b[0m eta \u001b[36m0:00:00\u001b[0m\n",
            "\u001b[?25hDownloading qiskit_ibm_runtime-0.40.1-py3-none-any.whl (3.2 MB)\n",
            "\u001b[2K   \u001b[90m━━━━━━━━━━━━━━━━━━━━━━━━━━━━━━━━━━━━━━━━\u001b[0m \u001b[32m3.2/3.2 MB\u001b[0m \u001b[31m67.2 MB/s\u001b[0m eta \u001b[36m0:00:00\u001b[0m\n",
            "\u001b[?25hDownloading async_lru-2.0.5-py3-none-any.whl (6.1 kB)\n",
            "Downloading ibm_cloud_sdk_core-3.24.1-py3-none-any.whl (75 kB)\n",
            "\u001b[2K   \u001b[90m━━━━━━━━━━━━━━━━━━━━━━━━━━━━━━━━━━━━━━━━\u001b[0m \u001b[32m75.8/75.8 kB\u001b[0m \u001b[31m4.8 MB/s\u001b[0m eta \u001b[36m0:00:00\u001b[0m\n",
            "\u001b[?25hDownloading jupyter_lsp-2.2.5-py3-none-any.whl (69 kB)\n",
            "\u001b[2K   \u001b[90m━━━━━━━━━━━━━━━━━━━━━━━━━━━━━━━━━━━━━━━━\u001b[0m \u001b[32m69.1/69.1 kB\u001b[0m \u001b[31m4.3 MB/s\u001b[0m eta \u001b[36m0:00:00\u001b[0m\n",
            "\u001b[?25hDownloading jupyter_server-2.16.0-py3-none-any.whl (386 kB)\n",
            "\u001b[2K   \u001b[90m━━━━━━━━━━━━━━━━━━━━━━━━━━━━━━━━━━━━━━━━\u001b[0m \u001b[32m386.9/386.9 kB\u001b[0m \u001b[31m22.1 MB/s\u001b[0m eta \u001b[36m0:00:00\u001b[0m\n",
            "\u001b[?25hDownloading jupyterlab_server-2.27.3-py3-none-any.whl (59 kB)\n",
            "\u001b[2K   \u001b[90m━━━━━━━━━━━━━━━━━━━━━━━━━━━━━━━━━━━━━━━━\u001b[0m \u001b[32m59.7/59.7 kB\u001b[0m \u001b[31m3.7 MB/s\u001b[0m eta \u001b[36m0:00:00\u001b[0m\n",
            "\u001b[?25hDownloading requests_ntlm-1.3.0-py3-none-any.whl (6.6 kB)\n",
            "Downloading spectate-1.0.1-py2.py3-none-any.whl (11 kB)\n",
            "Downloading jedi-0.19.2-py2.py3-none-any.whl (1.6 MB)\n",
            "\u001b[2K   \u001b[90m━━━━━━━━━━━━━━━━━━━━━━━━━━━━━━━━━━━━━━━━\u001b[0m \u001b[32m1.6/1.6 MB\u001b[0m \u001b[31m36.6 MB/s\u001b[0m eta \u001b[36m0:00:00\u001b[0m\n",
            "\u001b[?25hDownloading json5-0.12.0-py3-none-any.whl (36 kB)\n",
            "Downloading jupyter_events-0.12.0-py3-none-any.whl (19 kB)\n",
            "Downloading jupyter_server_terminals-0.5.3-py3-none-any.whl (13 kB)\n",
            "Downloading overrides-7.7.0-py3-none-any.whl (17 kB)\n",
            "Downloading pyspnego-0.11.2-py3-none-any.whl (130 kB)\n",
            "\u001b[2K   \u001b[90m━━━━━━━━━━━━━━━━━━━━━━━━━━━━━━━━━━━━━━━━\u001b[0m \u001b[32m130.5/130.5 kB\u001b[0m \u001b[31m7.2 MB/s\u001b[0m eta \u001b[36m0:00:00\u001b[0m\n",
            "\u001b[?25hDownloading jupyter_client-7.4.9-py3-none-any.whl (133 kB)\n",
            "\u001b[2K   \u001b[90m━━━━━━━━━━━━━━━━━━━━━━━━━━━━━━━━━━━━━━━━\u001b[0m \u001b[32m133.5/133.5 kB\u001b[0m \u001b[31m9.0 MB/s\u001b[0m eta \u001b[36m0:00:00\u001b[0m\n",
            "\u001b[?25hDownloading python_json_logger-3.3.0-py3-none-any.whl (15 kB)\n",
            "Downloading rfc3986_validator-0.1.1-py2.py3-none-any.whl (4.2 kB)\n",
            "Downloading rfc3339_validator-0.1.4-py2.py3-none-any.whl (3.5 kB)\n",
            "Downloading fqdn-1.5.1-py3-none-any.whl (9.1 kB)\n",
            "Downloading isoduration-20.11.0-py3-none-any.whl (11 kB)\n",
            "Downloading uri_template-1.3.0-py3-none-any.whl (11 kB)\n",
            "Downloading arrow-1.3.0-py3-none-any.whl (66 kB)\n",
            "\u001b[2K   \u001b[90m━━━━━━━━━━━━━━━━━━━━━━━━━━━━━━━━━━━━━━━━\u001b[0m \u001b[32m66.4/66.4 kB\u001b[0m \u001b[31m4.8 MB/s\u001b[0m eta \u001b[36m0:00:00\u001b[0m\n",
            "\u001b[?25hDownloading types_python_dateutil-2.9.0.20250516-py3-none-any.whl (14 kB)\n",
            "Building wheels for collected packages: pylatexenc\n",
            "  Building wheel for pylatexenc (setup.py) ... \u001b[?25l\u001b[?25hdone\n",
            "  Created wheel for pylatexenc: filename=pylatexenc-2.10-py3-none-any.whl size=136817 sha256=877d20429269eba2ef781ff783c85edf4d6a05efab48de3fd37b83afd2e88626\n",
            "  Stored in directory: /root/.cache/pip/wheels/b1/7a/33/9fdd892f784ed4afda62b685ae3703adf4c91aa0f524c28f03\n",
            "Successfully built pylatexenc\n",
            "Installing collected packages: pylatexenc, uri-template, types-python-dateutil, spectate, rfc3986-validator, rfc3339-validator, python-json-logger, overrides, networkx, jsonpickle, json5, jedi, fqdn, async-lru, jupyter-server-terminals, jupyter-client, ibm_cloud_sdk_core, arrow, pyspnego, isoduration, ibm-platform-services, requests-ntlm, qiskit-aer, qiskit-ibm-runtime, jupyter-events, jupyter-server, jupyterlab-server, jupyter-lsp, jupyterlab, ipycytoscape\n",
            "  Attempting uninstall: networkx\n",
            "    Found existing installation: networkx 3.5\n",
            "    Uninstalling networkx-3.5:\n",
            "      Successfully uninstalled networkx-3.5\n",
            "  Attempting uninstall: jsonpickle\n",
            "    Found existing installation: jsonpickle 4.1.1\n",
            "    Uninstalling jsonpickle-4.1.1:\n",
            "      Successfully uninstalled jsonpickle-4.1.1\n",
            "  Attempting uninstall: jupyter-client\n",
            "    Found existing installation: jupyter-client 6.1.12\n",
            "    Uninstalling jupyter-client-6.1.12:\n",
            "      Successfully uninstalled jupyter-client-6.1.12\n",
            "  Attempting uninstall: jupyter-server\n",
            "    Found existing installation: jupyter-server 1.16.0\n",
            "    Uninstalling jupyter-server-1.16.0:\n",
            "      Successfully uninstalled jupyter-server-1.16.0\n",
            "\u001b[31mERROR: pip's dependency resolver does not currently take into account all the packages that are installed. This behaviour is the source of the following dependency conflicts.\n",
            "torch 2.6.0+cu124 requires nvidia-cublas-cu12==12.4.5.8; platform_system == \"Linux\" and platform_machine == \"x86_64\", but you have nvidia-cublas-cu12 12.5.3.2 which is incompatible.\n",
            "torch 2.6.0+cu124 requires nvidia-cuda-cupti-cu12==12.4.127; platform_system == \"Linux\" and platform_machine == \"x86_64\", but you have nvidia-cuda-cupti-cu12 12.5.82 which is incompatible.\n",
            "torch 2.6.0+cu124 requires nvidia-cuda-nvrtc-cu12==12.4.127; platform_system == \"Linux\" and platform_machine == \"x86_64\", but you have nvidia-cuda-nvrtc-cu12 12.5.82 which is incompatible.\n",
            "torch 2.6.0+cu124 requires nvidia-cuda-runtime-cu12==12.4.127; platform_system == \"Linux\" and platform_machine == \"x86_64\", but you have nvidia-cuda-runtime-cu12 12.5.82 which is incompatible.\n",
            "torch 2.6.0+cu124 requires nvidia-cudnn-cu12==9.1.0.70; platform_system == \"Linux\" and platform_machine == \"x86_64\", but you have nvidia-cudnn-cu12 9.3.0.75 which is incompatible.\n",
            "torch 2.6.0+cu124 requires nvidia-cufft-cu12==11.2.1.3; platform_system == \"Linux\" and platform_machine == \"x86_64\", but you have nvidia-cufft-cu12 11.2.3.61 which is incompatible.\n",
            "torch 2.6.0+cu124 requires nvidia-curand-cu12==10.3.5.147; platform_system == \"Linux\" and platform_machine == \"x86_64\", but you have nvidia-curand-cu12 10.3.6.82 which is incompatible.\n",
            "torch 2.6.0+cu124 requires nvidia-cusolver-cu12==11.6.1.9; platform_system == \"Linux\" and platform_machine == \"x86_64\", but you have nvidia-cusolver-cu12 11.6.3.83 which is incompatible.\n",
            "torch 2.6.0+cu124 requires nvidia-cusparse-cu12==12.3.1.170; platform_system == \"Linux\" and platform_machine == \"x86_64\", but you have nvidia-cusparse-cu12 12.5.1.3 which is incompatible.\n",
            "torch 2.6.0+cu124 requires nvidia-nvjitlink-cu12==12.4.127; platform_system == \"Linux\" and platform_machine == \"x86_64\", but you have nvidia-nvjitlink-cu12 12.5.82 which is incompatible.\u001b[0m\u001b[31m\n",
            "\u001b[0mSuccessfully installed arrow-1.3.0 async-lru-2.0.5 fqdn-1.5.1 ibm-platform-services-0.66.1 ibm_cloud_sdk_core-3.24.1 ipycytoscape-1.3.3 isoduration-20.11.0 jedi-0.19.2 json5-0.12.0 jsonpickle-3.0.3 jupyter-client-7.4.9 jupyter-events-0.12.0 jupyter-lsp-2.2.5 jupyter-server-2.16.0 jupyter-server-terminals-0.5.3 jupyterlab-4.4.4 jupyterlab-server-2.27.3 networkx-3.2.1 overrides-7.7.0 pylatexenc-2.10 pyspnego-0.11.2 python-json-logger-3.3.0 qiskit-aer-0.17.1 qiskit-ibm-runtime-0.40.1 requests-ntlm-1.3.0 rfc3339-validator-0.1.4 rfc3986-validator-0.1.1 spectate-1.0.1 types-python-dateutil-2.9.0.20250516 uri-template-1.3.0\n"
          ]
        }
      ]
    },
    {
      "cell_type": "code",
      "source": [
        "import qiskit\n",
        "import qc_grader\n",
        "\n",
        "print(f\"Qiskit version: {qiskit.__version__}\")\n",
        "print(f\"Grader version: {qc_grader.__version__}\")"
      ],
      "metadata": {
        "colab": {
          "base_uri": "https://localhost:8080/"
        },
        "id": "F6tNLIu054OW",
        "outputId": "b6844de9-8752-4c98-829d-3492092aa015"
      },
      "execution_count": 23,
      "outputs": [
        {
          "output_type": "stream",
          "name": "stdout",
          "text": [
            "Qiskit version: 2.1.0\n",
            "Grader version: 0.22.9\n"
          ]
        }
      ]
    },
    {
      "cell_type": "code",
      "source": [
        "your_api_key = \"your API key here\"\n",
        "your_crn = \"your CRN here\"\n",
        "\n",
        "from qiskit_ibm_runtime import QiskitRuntimeService\n",
        "\n",
        "QiskitRuntimeService.save_account(\n",
        "    channel=\"ibm_quantum_platform\",\n",
        "    token=your_api_key,\n",
        "    instance=your_crn,\n",
        "    name=\"qgss-2025\",\n",
        "    overwrite=True\n",
        ")"
      ],
      "metadata": {
        "id": "MUzgXlLE56rP"
      },
      "execution_count": 24,
      "outputs": []
    },
    {
      "cell_type": "code",
      "source": [
        "service = QiskitRuntimeService(name=\"qgss-2025\")\n",
        "service.saved_accounts()"
      ],
      "metadata": {
        "colab": {
          "base_uri": "https://localhost:8080/"
        },
        "id": "bJeFYhzL580q",
        "outputId": "2a63bbde-8439-4795-b0c7-60f8ee29104d",
        "collapsed": true
      },
      "execution_count": 25,
      "outputs": [
        {
          "output_type": "execute_result",
          "data": {
            "text/plain": [
              "{'qgss-2025': {'channel': 'ibm_quantum_platform',\n",
              "  'url': 'https://cloud.ibm.com',\n",
              "  'token': 'token',\n",
              "  'instance': 'crn:v1:bluemix:public:quantum-computing:us-east:a/40b27075d7c34b02bc4479d6db856fc8:01702384-c52d-4f72-a651-75ca6450c112::',\n",
              "  'verify': True,\n",
              "  'private_endpoint': False}}"
            ]
          },
          "metadata": {},
          "execution_count": 25
        }
      ]
    },
    {
      "cell_type": "code",
      "source": [
        "import numpy as np\n",
        "import matplotlib.pyplot as plt\n",
        "import ipywidgets as widgets\n",
        "from IPython.display import display\n",
        "from PIL import Image\n",
        "import io\n",
        "\n",
        "from qiskit import QuantumCircuit\n",
        "from qiskit.circuit import Parameter\n",
        "from qiskit.visualization import plot_histogram, plot_distribution\n",
        "from qiskit_ibm_runtime import Options, Session, SamplerV2 as Sampler\n",
        "from qiskit.result import marginal_distribution\n",
        "\n",
        "from qiskit.transpiler import generate_preset_pass_manager\n",
        "from qiskit_ibm_runtime import QiskitRuntimeService\n",
        "from qiskit_aer import AerSimulator\n",
        "\n",
        "from qc_grader.challenges.qgss_2025 import (\n",
        "    grade_lab1_ex1_1,\n",
        "    grade_lab1_ex1_2,\n",
        "    grade_lab1_ex1_3,\n",
        "    grade_lab1_ex1_4,\n",
        "    grade_lab1_ex2,\n",
        "    grade_lab1_ex3,\n",
        "    grade_lab1_ex4,\n",
        "    grade_lab1_ex5,\n",
        "    grade_lab1_ex6\n",
        ")"
      ],
      "metadata": {
        "id": "HZqb8tBp5_f4"
      },
      "execution_count": 26,
      "outputs": []
    },
    {
      "cell_type": "code",
      "source": [
        "from qiskit import QuantumCircuit, QuantumRegister, ClassicalRegister\n",
        "\n",
        "qr = QuantumRegister(1, name='q')\n",
        "cr = ClassicalRegister(1, name='c_screen')\n",
        "\n",
        "double_slit = QuantumCircuit(qr, cr)\n",
        "# your code here\n",
        "\n",
        "double_slit.h(qr[0])\n",
        "\n",
        "# end of your code\n",
        "double_slit.draw('mpl')\n"
      ],
      "metadata": {
        "id": "dYtZsCJM6K14",
        "colab": {
          "base_uri": "https://localhost:8080/",
          "height": 191
        },
        "outputId": "39d412f0-205e-4ecd-9b32-da13dec60846"
      },
      "execution_count": 33,
      "outputs": [
        {
          "output_type": "execute_result",
          "data": {
            "text/plain": [
              "<Figure size 294.423x200.667 with 1 Axes>"
            ],
            "image/png": "[encoded data removed]"
          },
          "metadata": {},
          "execution_count": 33
        }
      ]
    },
    {
      "cell_type": "code",
      "source": [
        "# Submit your answer using the following code\n",
        "grade_lab1_ex1_1(double_slit)"
      ],
      "metadata": {
        "colab": {
          "base_uri": "https://localhost:8080/"
        },
        "id": "WY20ZKkaLin_",
        "outputId": "cbe56dee-c468-48e7-dc10-e27cbe2b8a4c"
      },
      "execution_count": 34,
      "outputs": [
        {
          "output_type": "stream",
          "name": "stdout",
          "text": [
            "Submitting your answer. Please wait...\n",
            "Congratulations! 🎉 Your answer is correct.\n"
          ]
        }
      ]
    },
    {
      "cell_type": "code",
      "source": [
        "# your code here\n",
        "\n",
        "double_slit.h(qr[0])\n",
        "double_slit.measure(qr[0], cr[0])\n",
        "\n",
        "# end of your code\n",
        "double_slit.draw('mpl')\n"
      ],
      "metadata": {
        "colab": {
          "base_uri": "https://localhost:8080/",
          "height": 191
        },
        "id": "59g9T454Lk35",
        "outputId": "c43e0cd2-504c-4faa-af44-f3ab428b851d"
      },
      "execution_count": 35,
      "outputs": [
        {
          "output_type": "execute_result",
          "data": {
            "text/plain": [
              "<Figure size 461.645x200.667 with 1 Axes>"
            ],
            "image/png": "[encoded data removed]"
          },
          "metadata": {},
          "execution_count": 35
        }
      ]
    },
    {
      "cell_type": "code",
      "source": [
        "# Submit your answer using the following code\n",
        "grade_lab1_ex1_2(double_slit)"
      ],
      "metadata": {
        "colab": {
          "base_uri": "https://localhost:8080/"
        },
        "id": "fzi8hF4uXltJ",
        "outputId": "818b138f-8dcf-422a-bc11-519bf9030e69"
      },
      "execution_count": 36,
      "outputs": [
        {
          "output_type": "stream",
          "name": "stdout",
          "text": [
            "Submitting your answer. Please wait...\n",
            "Congratulations! 🎉 Your answer is correct.\n"
          ]
        }
      ]
    },
    {
      "cell_type": "code",
      "source": [
        "# use simulator\n",
        "backend = AerSimulator()\n",
        "\n",
        "# make quantum circuit compatible to the backend\n",
        "pm = generate_preset_pass_manager(backend = backend, optimization_level=3)\n",
        "qc_isa = pm.run(double_slit)\n",
        "\n",
        "# run and get counts\n",
        "sampler = Sampler(mode=backend)\n",
        "counts = sampler.run([qc_isa], shots = 1000).result()[0].data.c_screen.get_counts()\n",
        "\n",
        "plot_distribution(counts)"
      ],
      "metadata": {
        "colab": {
          "base_uri": "https://localhost:8080/",
          "height": 506
        },
        "id": "ZF9rMc64XrGq",
        "outputId": "42b15a76-df9a-4382-e63c-7ec8e326a268"
      },
      "execution_count": 37,
      "outputs": [
        {
          "output_type": "execute_result",
          "data": {
            "text/plain": [
              "<Figure size 700x500 with 1 Axes>"
            ],
            "image/png": "[encoded data removed]"
          },
          "metadata": {},
          "execution_count": 37
        }
      ]
    },
    {
      "cell_type": "code",
      "source": [
        "qr = QuantumRegister(1, name='q')\n",
        "cr = ClassicalRegister(1, name='c_screen')\n",
        "\n",
        "double_slit_with_difference = QuantumCircuit(qr, cr)\n",
        "double_slit_with_difference.h(0)\n",
        "\n",
        "#your code here\n",
        "\n",
        "double_slit_with_difference.s(0)\n",
        "\n",
        "\n",
        "#end of your code\n",
        "\n",
        "double_slit_with_difference.h(0)\n",
        "double_slit_with_difference.measure(qr, cr)\n",
        "double_slit_with_difference.draw('mpl')\n"
      ],
      "metadata": {
        "colab": {
          "base_uri": "https://localhost:8080/",
          "height": 191
        },
        "id": "sdm2BWEbX8DI",
        "outputId": "24df98d8-6fe9-4a44-a3cc-9e75a07b9885"
      },
      "execution_count": 42,
      "outputs": [
        {
          "output_type": "execute_result",
          "data": {
            "text/plain": [
              "<Figure size 545.256x200.667 with 1 Axes>"
            ],
            "image/png": "[encoded data removed]"
          },
          "metadata": {},
          "execution_count": 42
        }
      ]
    },
    {
      "cell_type": "code",
      "source": [
        "# Submit your answer using the following code\n",
        "grade_lab1_ex1_3(double_slit_with_difference)"
      ],
      "metadata": {
        "colab": {
          "base_uri": "https://localhost:8080/"
        },
        "id": "ZxGWWUxRYFWG",
        "outputId": "40b07e39-743b-4278-93c3-57284df96231"
      },
      "execution_count": 43,
      "outputs": [
        {
          "output_type": "stream",
          "name": "stdout",
          "text": [
            "Submitting your answer. Please wait...\n",
            "Congratulations! 🎉 Your answer is correct.\n"
          ]
        }
      ]
    },
    {
      "cell_type": "code",
      "source": [
        "qc_isa = pm.run(double_slit_with_difference)\n",
        "\n",
        "#run and get counts\n",
        "sampler = Sampler(mode=backend)\n",
        "counts = sampler.run([qc_isa], shots=10000).result()[0].data.c_screen.get_counts()\n",
        "plot_distribution(counts)"
      ],
      "metadata": {
        "colab": {
          "base_uri": "https://localhost:8080/",
          "height": 507
        },
        "id": "SGNGpMTkYf-O",
        "outputId": "03a5002c-2197-4ec3-f238-f764f97969ce"
      },
      "execution_count": 44,
      "outputs": [
        {
          "output_type": "execute_result",
          "data": {
            "text/plain": [
              "<Figure size 700x500 with 1 Axes>"
            ],
            "image/png": "[encoded data removed]"
          },
          "metadata": {},
          "execution_count": 44
        }
      ]
    },
    {
      "cell_type": "code",
      "source": [
        "φ = Parameter('φ')\n",
        "\n",
        "qr = QuantumRegister(1, name='q')\n",
        "cr = ClassicalRegister(1, name='c_screen')\n",
        "\n",
        "double_slit_fringe = QuantumCircuit(qr, cr)\n",
        "\n",
        "#your code here\n",
        "\n",
        "\n",
        "double_slit_fringe.h(qr[0])\n",
        "double_slit_fringe.p(φ, qr[0])\n",
        "double_slit_fringe.h(qr[0])\n",
        "double_slit_fringe.measure(qr[0], cr[0])\n",
        "\n",
        "#end of your code\n",
        "double_slit_fringe.draw('mpl')"
      ],
      "metadata": {
        "colab": {
          "base_uri": "https://localhost:8080/",
          "height": 191
        },
        "id": "3eEUDy3FYizh",
        "outputId": "25ebe6f0-dedb-4230-8ccb-353961600e1c"
      },
      "execution_count": 45,
      "outputs": [
        {
          "output_type": "execute_result",
          "data": {
            "text/plain": [
              "<Figure size 545.256x200.667 with 1 Axes>"
            ],
            "image/png": "[encoded data removed]"
          },
          "metadata": {},
          "execution_count": 45
        }
      ]
    },
    {
      "cell_type": "code",
      "source": [
        "# Submit your answer using the following code\n",
        "grade_lab1_ex1_4(double_slit_fringe)"
      ],
      "metadata": {
        "colab": {
          "base_uri": "https://localhost:8080/"
        },
        "id": "DSdnNBJrY4bS",
        "outputId": "e09b90e4-46ca-47aa-b2d8-46ad5ccd0ed6"
      },
      "execution_count": 46,
      "outputs": [
        {
          "output_type": "stream",
          "name": "stdout",
          "text": [
            "Submitting your answer. Please wait...\n",
            "Congratulations! 🎉 Your answer is correct.\n"
          ]
        }
      ]
    },
    {
      "cell_type": "code",
      "source": [
        "φ_lst = np.linspace(-3*np.pi, 3*np.pi, 100)\n",
        "qc_isa = pm.run(double_slit_fringe)\n",
        "\n",
        "φ_hit = []\n",
        "dist = sampler.run([(qc_isa, φ_lst)], shots=1000).result()[0].data.c_screen\n",
        "\n",
        "for i  in range(len(φ_lst)):\n",
        "    result = dist[i].get_counts()\n",
        "    if '0' in result:\n",
        "        φ_hit.append(result['0']/1000)\n",
        "    else:\n",
        "        φ_hit.append(0)\n",
        "\n",
        "#plot heat map\n",
        "φ_hit_2d = np.array(φ_hit).reshape(1, -1)\n",
        "\n",
        "plt.figure(figsize=(10, 2))\n",
        "plt.imshow(φ_hit_2d, cmap='gray', aspect='auto', extent=[-3*np.pi, 3*np.pi, 0, 0.1])\n",
        "\n",
        "plt.xlabel('φ (Phase difference)', fontsize=14)\n",
        "plt.colorbar(label='prob')\n",
        "plt.xticks(ticks=[-3*np.pi, -2*np.pi, -np.pi, 0, np.pi, 2*np.pi, 3*np.pi],\n",
        "           labels=['-3π', '-2π', '-π', '0', 'π', '2π', '3π'])\n",
        "plt.yticks([])\n",
        "plt.show()"
      ],
      "metadata": {
        "colab": {
          "base_uri": "https://localhost:8080/",
          "height": 244
        },
        "id": "ZaM3xLTxY7qt",
        "outputId": "a39d7c1e-d4c9-434b-eecc-5b171697c077"
      },
      "execution_count": 47,
      "outputs": [
        {
          "output_type": "display_data",
          "data": {
            "text/plain": [
              "<Figure size 1000x200 with 2 Axes>"
            ],
            "image/png": "[encoded data removed]"
          },
          "metadata": {}
        }
      ]
    },
    {
      "cell_type": "code",
      "source": [
        "def schrodingers_cat_experiment_theta(theta):\n",
        "\n",
        "    qc = QuantumCircuit(1)\n",
        "\n",
        "    #your code start here\n",
        "\n",
        "    qc.rx(theta, 0)\n",
        "\n",
        "    #end of your code\n",
        "\n",
        "    qc.measure_all()\n",
        "\n",
        "    backend = AerSimulator()\n",
        "    pm = generate_preset_pass_manager( backend = backend, optimization_level=3)\n",
        "    qc_isa = pm.run(qc)\n",
        "\n",
        "    # Circuit compile and run, shot = 1\n",
        "    sampler = Sampler(mode=backend)\n",
        "    counts = sampler.run([qc_isa], shots = 1).result()[0].data.meas.get_counts()\n",
        "\n",
        "    measured_state = list(counts.keys())[0] if counts else '0'\n",
        "\n",
        "    if measured_state == '0':\n",
        "        cat_happy = True\n",
        "    else:\n",
        "        cat_happy = False\n",
        "\n",
        "    return cat_happy, qc\n"
      ],
      "metadata": {
        "id": "Il3zrS4vZFuF"
      },
      "execution_count": 48,
      "outputs": []
    },
    {
      "cell_type": "code",
      "source": [
        "# Submit your answer using the following code\n",
        "grade_lab1_ex2(schrodingers_cat_experiment_theta)"
      ],
      "metadata": {
        "colab": {
          "base_uri": "https://localhost:8080/"
        },
        "id": "jQ9_kjEQZXiL",
        "outputId": "7a9d422c-5b50-4975-ac73-5c5c0828f50f"
      },
      "execution_count": 49,
      "outputs": [
        {
          "output_type": "stream",
          "name": "stdout",
          "text": [
            "Submitting your answer. Please wait...\n",
            "Congratulations! 🎉 Your answer is correct.\n"
          ]
        }
      ]
    },
    {
      "cell_type": "code",
      "source": [
        "qr = QuantumRegister(1, name='q')\n",
        "cr1 = ClassicalRegister(1, name='c_detector')\n",
        "cr2 = ClassicalRegister(1, name='c_screen')\n",
        "double_slit_with_detector = QuantumCircuit(qr, cr1, cr2)\n",
        "\n",
        "φ = Parameter('φ')\n",
        "\n",
        "#your code here\n",
        "double_slit_with_detector.h(qr[0])\n",
        "double_slit_with_detector.measure(qr[0], cr1[0])\n",
        "\n",
        "double_slit_with_detector.p(φ, qr[0])\n",
        "double_slit_with_detector.h(qr[0])\n",
        "double_slit_with_detector.measure(qr[0], cr2[0])\n",
        "#end of your code\n",
        "\n",
        "double_slit_with_detector.draw('mpl')"
      ],
      "metadata": {
        "colab": {
          "base_uri": "https://localhost:8080/",
          "height": 255
        },
        "id": "z2mj4Q6oZcAN",
        "outputId": "2183246d-71e4-41e7-c567-32c17b9eda53"
      },
      "execution_count": 52,
      "outputs": [
        {
          "output_type": "execute_result",
          "data": {
            "text/plain": [
              "<Figure size 653.915x284.278 with 1 Axes>"
            ],
            "image/png": "[encoded data removed]"
          },
          "metadata": {},
          "execution_count": 52
        }
      ]
    },
    {
      "cell_type": "code",
      "source": [
        "grade_lab1_ex3(double_slit_with_detector)"
      ],
      "metadata": {
        "colab": {
          "base_uri": "https://localhost:8080/"
        },
        "id": "qSvF8yFvZ8g9",
        "outputId": "67c3903e-53d2-4082-8cab-b315acf3f689"
      },
      "execution_count": 53,
      "outputs": [
        {
          "output_type": "stream",
          "name": "stdout",
          "text": [
            "Submitting your answer. Please wait...\n",
            "Congratulations! 🎉 Your answer is correct.\n"
          ]
        }
      ]
    },
    {
      "cell_type": "code",
      "source": [
        "φ_lst = np.linspace(-3 * np.pi, 3 * np.pi, 100)\n",
        "qc_isa = pm.run(double_slit_with_detector)\n",
        "\n",
        "φ_hit = []\n",
        "dist = sampler.run([(qc_isa, φ_lst)], shots=1000).result()[0].data.c_screen\n",
        "\n",
        "for i  in range(len(φ_lst)):\n",
        "    result = dist[i].get_counts()\n",
        "    if '0' in result:\n",
        "        φ_hit.append(result['0']/1000)\n",
        "    else:\n",
        "        φ_hit.append(0)\n",
        "\n",
        "φ_hit_2d = np.array(φ_hit).reshape(1, -1)\n",
        "\n",
        "plt.figure(figsize=(10, 2))\n",
        "plt.imshow(φ_hit_2d, cmap='gray', aspect='auto', extent=[-3*np.pi, 3*np.pi, 0, 0.1], vmin=0, vmax=1)\n",
        "\n",
        "plt.xlabel('φ (Phase difference)', fontsize=14)\n",
        "plt.colorbar(label='prob')\n",
        "plt.xticks(ticks=[-3 * np.pi, -2 * np.pi, -np.pi, 0, np.pi, 2 * np.pi, 3 * np.pi],\n",
        "           labels=['-3π', '-2π', '-π', '0', 'π', '2π', '3π'])\n",
        "plt.yticks([])\n",
        "plt.show()"
      ],
      "metadata": {
        "colab": {
          "base_uri": "https://localhost:8080/",
          "height": 244
        },
        "id": "VPFCQI8hZ_tM",
        "outputId": "17d669f3-91ac-41e7-ac1c-1230cd9c3e4c"
      },
      "execution_count": 54,
      "outputs": [
        {
          "output_type": "display_data",
          "data": {
            "text/plain": [
              "<Figure size 1000x200 with 2 Axes>"
            ],
            "image/png": "[encoded data removed]"
          },
          "metadata": {}
        }
      ]
    },
    {
      "cell_type": "code",
      "source": [
        "from qiskit.circuit.library import RYGate\n",
        "from math import pi\n",
        "\n",
        "def create_chsh_circuit(x, y):\n",
        "    \"\"\"Builds Qiskit circuit for Alice & Bob's quantum strategy.\"\"\"\n",
        "    qc = QuantumCircuit(2, 2, name=f'CHSH_{x}{y}') # 2 qubits, 2 classical bits\n",
        "\n",
        "    # ---- TODO : Task 1 ---\n",
        "    # Create Bell state |Φ+> = (|00> + |11>)/sqrt(2)\n",
        "    qc.h(0)\n",
        "    qc.cx(0, 1)\n",
        "    # --- End of TODO ---\n",
        "    qc.barrier()\n",
        "\n",
        "    # Step 2a: Alice's measurement basis (X if x=1, Z if x=0)\n",
        "    if x == 1:\n",
        "        qc.h(0) # H for X-basis measurement\n",
        "\n",
        "    ##  --- TODO: Task 2 ----\n",
        "    # Bob's measurement basis\n",
        "    if y == 0:\n",
        "        qc.ry(-pi/4, 1)\n",
        "    elif y == 1:\n",
        "        qc.ry(pi/4, 1)\n",
        "\n",
        "    # --- End of TODO ---\n",
        "    qc.barrier()\n",
        "\n",
        "    # Step 3: Measure\n",
        "    qc.measure([0, 1], [0, 1]) # q0 to c0 (Alice), q1 to c1 (Bob)\n",
        "\n",
        "    return qc\n"
      ],
      "metadata": {
        "id": "qGkHMr5MaFF4"
      },
      "execution_count": 57,
      "outputs": []
    },
    {
      "cell_type": "code",
      "source": [
        "grade_lab1_ex4(create_chsh_circuit)"
      ],
      "metadata": {
        "colab": {
          "base_uri": "https://localhost:8080/"
        },
        "id": "noCCLTguaRnI",
        "outputId": "c53b61bd-647f-4e92-c698-5ddef11ccc05"
      },
      "execution_count": 58,
      "outputs": [
        {
          "output_type": "stream",
          "name": "stdout",
          "text": [
            "Submitting your answer. Please wait...\n",
            "Congratulations! 🎉 Your answer is correct.\n"
          ]
        }
      ]
    },
    {
      "cell_type": "code",
      "source": [
        "circuits = []\n",
        "input_pairs = []\n",
        "for x_in in [0, 1]:\n",
        "    for y_in in [0, 1]:\n",
        "        input_pairs.append((x_in, y_in))\n",
        "        circuits.append(create_chsh_circuit(x_in, y_in))\n",
        "\n",
        "print(\"Quantum circuit for inputs x=1, y=1 (Check your Exercises 1 & 2 implementation):\")\n",
        "if len(circuits) == 4:\n",
        "    display(circuits[3].draw('mpl'))\n",
        "else:\n",
        "    print(\"Circuits not generated. Run previous cell after completing Exercises 1 & 2.\")"
      ],
      "metadata": {
        "colab": {
          "base_uri": "https://localhost:8080/",
          "height": 272
        },
        "id": "zoaj0rkRaiD2",
        "outputId": "ce97206b-b712-46ae-b9ed-2399da85ba1d"
      },
      "execution_count": 59,
      "outputs": [
        {
          "output_type": "stream",
          "name": "stdout",
          "text": [
            "Quantum circuit for inputs x=1, y=1 (Check your Exercises 1 & 2 implementation):\n"
          ]
        },
        {
          "output_type": "display_data",
          "data": {
            "text/plain": [
              "<Figure size 705.35x284.278 with 1 Axes>"
            ],
            "image/png": "[encoded data removed]"
          },
          "metadata": {}
        }
      ]
    },
    {
      "cell_type": "code",
      "source": [
        "SHOTS = 1024\n",
        "\n",
        "print(\"Preparing circuits for the simulator...\")\n",
        "isa_qc_chsh = pm.run(circuits)\n",
        "\n",
        "sampler_chsh = Sampler(mode=backend)\n",
        "job_chsh = sampler_chsh.run(isa_qc_chsh, shots=SHOTS)\n",
        "results_chsh = job_chsh.result()\n",
        "\n",
        "# SamplerV2: results_chsh[i].data.c.get_counts() where 'c' is the default name of classical register\n",
        "counts_list = [results_chsh[i].data.c.get_counts() for i in range(len(circuits))]\n",
        "\n",
        "print(\"\\n--- Simulation Results (Counts) ---\")\n",
        "for i, (x, y) in enumerate(input_pairs):\n",
        "    print(f\"Inputs (x={x}, y={y}):\")\n",
        "    sorted_counts = dict(sorted(counts_list[i].items()))\n",
        "    print(f\"  Outcomes (ba): {sorted_counts}\")\n",
        "\n",
        "print(\"\\nPlotting results...\")\n",
        "display(plot_histogram(counts_list,\n",
        "                       legend=[f'(x={x}, y={y})' for x, y in input_pairs],\n",
        "                       title='CHSH Game Outcomes (ba format)'))"
      ],
      "metadata": {
        "colab": {
          "base_uri": "https://localhost:8080/",
          "height": 713
        },
        "id": "FD277JeBalCx",
        "outputId": "c1d81d15-2342-4b4e-94b4-69d5f6a5e5ef"
      },
      "execution_count": 60,
      "outputs": [
        {
          "output_type": "stream",
          "name": "stdout",
          "text": [
            "Preparing circuits for the simulator...\n",
            "\n",
            "--- Simulation Results (Counts) ---\n",
            "Inputs (x=0, y=0):\n",
            "  Outcomes (ba): {'00': 452, '01': 79, '10': 77, '11': 416}\n",
            "Inputs (x=0, y=1):\n",
            "  Outcomes (ba): {'00': 459, '01': 60, '10': 73, '11': 432}\n",
            "Inputs (x=1, y=0):\n",
            "  Outcomes (ba): {'00': 417, '01': 82, '10': 75, '11': 450}\n",
            "Inputs (x=1, y=1):\n",
            "  Outcomes (ba): {'00': 79, '01': 429, '10': 427, '11': 89}\n",
            "\n",
            "Plotting results...\n"
          ]
        },
        {
          "output_type": "display_data",
          "data": {
            "text/plain": [
              "<Figure size 640x480 with 1 Axes>"
            ],
            "image/png": "[encoded data removed]"
          },
          "metadata": {}
        }
      ]
    },
    {
      "cell_type": "code",
      "source": [
        "import numpy as np\n",
        "\n",
        "# Assume you have:\n",
        "# - input_pairs = [(0,0), (0,1), (1,0), (1,1)]\n",
        "# - counts_list = [counts_00, counts_01, counts_10, counts_11]\n",
        "# - SHOTS = number of shots per circuit (e.g., 1024)\n",
        "\n",
        "win_probabilities = {}\n",
        "print(\"--- Calculating Win Probabilities ---\")\n",
        "\n",
        "for i, (x, y) in enumerate(input_pairs):\n",
        "    counts = counts_list[i]\n",
        "\n",
        "    # ---- TODO : Task 1 ---\n",
        "    # Target (a XOR b) value for winning\n",
        "    target_xor_result = x & y\n",
        "    # --- End of TODO ---\n",
        "\n",
        "    wins_for_this_case = 0\n",
        "\n",
        "    # ---- TODO : Task 2 ---\n",
        "    # Calculate the total number of shots that satisfy the winning condition determined above.\n",
        "    for outcome, count in counts.items():\n",
        "        # outcome is a string like 'ba' -> a = last bit, b = second last bit\n",
        "        a = int(outcome[-1])  # Alice's bit\n",
        "        b = int(outcome[-2])  # Bob's bit\n",
        "        if a ^ b == target_xor_result:\n",
        "            wins_for_this_case += count\n",
        "    # --- End of TODO ---\n",
        "\n",
        "    prob = wins_for_this_case / SHOTS if SHOTS > 0 else 0\n",
        "    win_probabilities[(x, y)] = prob\n",
        "    print(f\"Inputs (x={x}, y={y}): Target (a XOR b) = {target_xor_result}. Win Probability = {prob:.4f}\")\n",
        "\n",
        "avg_win_prob = sum(win_probabilities.values()) / 4.0\n",
        "P_win_quantum_theory = np.cos(np.pi / 8)**2  # ~0.8536\n",
        "P_win_classical_limit = 0.75\n",
        "\n",
        "print(\"\\n--- Overall Performance ---\")\n",
        "print(f\"Experimental Average Win Probability: {avg_win_prob:.4f}\")\n",
        "print(f\"Theoretical Quantum Win Probability: {P_win_quantum_theory:.4f}\")\n",
        "print(f\"Classical Limit Win Probability:     {P_win_classical_limit:.4f}\")\n",
        "\n",
        "if avg_win_prob > P_win_classical_limit + 0.01:  # Allow for small simulation variance\n",
        "    print(f\"\\nSuccess! Your result ({avg_win_prob:.4f}) clearly beats the classical 75% limit!\")\n",
        "    print(f\"It's likely close to the theoretical quantum prediction of {P_win_quantum_theory:.4f}.\")\n",
        "elif avg_win_prob > P_win_classical_limit - 0.02:\n",
        "    print(f\"\\nClose, but no cigar? Your result ({avg_win_prob:.4f}) is around the classical limit ({P_win_classical_limit:.4f}).\")\n",
        "    print(\"Check your solutions for Exercises 1-4 carefully, especially the win counting logic in Ex 5.\")\n",
        "else:\n",
        "    print(f\"\\nHmm, the result ({avg_win_prob:.4f}) is unexpectedly low, even below the classical limit.\")\n",
        "    print(\"There might be an error in Exercises 1-4. Please review your circuit and analysis code.\")\n"
      ],
      "metadata": {
        "colab": {
          "base_uri": "https://localhost:8080/"
        },
        "id": "j6ck7CouasyQ",
        "outputId": "4ecfa3b6-3d83-48da-e193-75a553a31c82"
      },
      "execution_count": 61,
      "outputs": [
        {
          "output_type": "stream",
          "name": "stdout",
          "text": [
            "--- Calculating Win Probabilities ---\n",
            "Inputs (x=0, y=0): Target (a XOR b) = 0. Win Probability = 0.8477\n",
            "Inputs (x=0, y=1): Target (a XOR b) = 0. Win Probability = 0.8701\n",
            "Inputs (x=1, y=0): Target (a XOR b) = 0. Win Probability = 0.8467\n",
            "Inputs (x=1, y=1): Target (a XOR b) = 1. Win Probability = 0.8359\n",
            "\n",
            "--- Overall Performance ---\n",
            "Experimental Average Win Probability: 0.8501\n",
            "Theoretical Quantum Win Probability: 0.8536\n",
            "Classical Limit Win Probability:     0.7500\n",
            "\n",
            "Success! Your result (0.8501) clearly beats the classical 75% limit!\n",
            "It's likely close to the theoretical quantum prediction of 0.8536.\n"
          ]
        }
      ]
    },
    {
      "cell_type": "code",
      "source": [
        "grade_lab1_ex5(counts_list, avg_win_prob)"
      ],
      "metadata": {
        "colab": {
          "base_uri": "https://localhost:8080/"
        },
        "id": "GD4SKLAga2Fz",
        "outputId": "ac398668-c162-44c7-e4d4-bfa2ac0cc9a7"
      },
      "execution_count": 62,
      "outputs": [
        {
          "output_type": "stream",
          "name": "stdout",
          "text": [
            "Submitting your answer. Please wait...\n",
            "Congratulations! 🎉 Your answer is correct.\n"
          ]
        }
      ]
    },
    {
      "cell_type": "code",
      "source": [
        "from qiskit import QuantumRegister, ClassicalRegister, QuantumCircuit\n",
        "\n",
        "\n",
        "qr_tele = QuantumRegister(3, name='q')\n",
        "cr_alice_tele = ClassicalRegister(2, name='c_alice')\n",
        "\n",
        "teleport_qc = QuantumCircuit(qr_tele, cr_alice_tele, name='Teleportation')\n",
        "\n",
        "teleport_qc.h(qr_tele[0])\n",
        "teleport_qc.barrier()\n",
        "\n",
        "teleport_qc.h(qr_tele[1])\n",
        "teleport_qc.cx(qr_tele[1], qr_tele[2])\n",
        "teleport_qc.barrier()\n",
        "\n",
        "teleport_qc.cx(qr_tele[0], qr_tele[1])\n",
        "teleport_qc.h(qr_tele[0])\n",
        "teleport_qc.barrier()\n",
        "\n",
        "teleport_qc.measure(qr_tele[0], cr_alice_tele[0])\n",
        "teleport_qc.measure(qr_tele[1], cr_alice_tele[1])\n",
        "teleport_qc.barrier()\n",
        "\n",
        "with teleport_qc.if_test((cr_alice_tele[1], 1)):\n",
        "    teleport_qc.x(qr_tele[2])\n",
        "\n",
        "with teleport_qc.if_test((cr_alice_tele[0], 1)):\n",
        "    teleport_qc.z(qr_tele[2])\n",
        "\n",
        "teleport_qc.draw('mpl')\n"
      ],
      "metadata": {
        "colab": {
          "base_uri": "https://localhost:8080/",
          "height": 320
        },
        "id": "ZRO2rA9UbBp4",
        "outputId": "fcf33c96-400e-411c-9a45-95cc340692ea"
      },
      "execution_count": 75,
      "outputs": [
        {
          "output_type": "execute_result",
          "data": {
            "text/plain": [
              "<Figure size 1436.13x367.889 with 1 Axes>"
            ],
            "image/png": "[encoded data removed]"
          },
          "metadata": {},
          "execution_count": 75
        }
      ]
    },
    {
      "cell_type": "code",
      "source": [
        "# Submit your answer using the following code\n",
        "grade_lab1_ex6(teleport_qc)"
      ],
      "metadata": {
        "colab": {
          "base_uri": "https://localhost:8080/"
        },
        "id": "N3fvj8TPbLYz",
        "outputId": "f8ae8cac-ea77-4ae7-d341-ea8aa8329ced"
      },
      "execution_count": 76,
      "outputs": [
        {
          "output_type": "stream",
          "name": "stdout",
          "text": [
            "Submitting your answer. Please wait...\n",
            "Congratulations! 🎉 Your answer is correct.\n"
          ]
        }
      ]
    },
    {
      "cell_type": "code",
      "source": [
        "%matplotlib inline\n",
        "\n",
        "# Use Statevector Simulator\n",
        "print(\"Using statevector simulator...\")\n",
        "sv_simulator = AerSimulator(method='statevector')\n",
        "teleport_qc_sv = teleport_qc.copy()\n",
        "teleport_qc_sv.save_statevector()\n",
        "\n",
        "print(\"Running statevector simulation...\")\n",
        "job_sv = sv_simulator.run(teleport_qc_sv)\n",
        "result_sv = job_sv.result()\n",
        "\n",
        "if result_sv.success:\n",
        "    print(\"Simulation successful.\")\n",
        "    final_statevector = result_sv.get_statevector()\n",
        "    print(\"Statevector retrieved successfully.\")\n",
        "    print(\"\\nVisualizing final qubit states (q2 should match initial q0 state |+>):\")\n",
        "    display(\"TODO\")\n",
        "\n",
        "else:\n",
        "    print(f\"Statevector simulation failed! Status: {result_sv.status}\")"
      ],
      "metadata": {
        "colab": {
          "base_uri": "https://localhost:8080/",
          "height": 139
        },
        "id": "hxGSAi_SfO2m",
        "outputId": "6e8a5394-f03c-4978-a10c-f6e8526076f8"
      },
      "execution_count": 77,
      "outputs": [
        {
          "output_type": "stream",
          "name": "stdout",
          "text": [
            "Using statevector simulator...\n",
            "Running statevector simulation...\n",
            "Simulation successful.\n",
            "Statevector retrieved successfully.\n",
            "\n",
            "Visualizing final qubit states (q2 should match initial q0 state |+>):\n"
          ]
        },
        {
          "output_type": "display_data",
          "data": {
            "text/plain": [
              "'TODO'"
            ],
            "application/vnd.google.colaboratory.intrinsic+json": {
              "type": "string"
            }
          },
          "metadata": {}
        }
      ]
    },
    {
      "cell_type": "code",
      "source": [
        "#Check your submission status with the code belowf\n",
        "from qc_grader.grader.grade import check_lab_completion_status\n",
        "check_lab_completion_status(\"qgss_2025\")"
      ],
      "metadata": {
        "colab": {
          "base_uri": "https://localhost:8080/"
        },
        "id": "DNyffK4kfmGX",
        "outputId": "2ee8c1f2-12ff-47a2-aaaa-169c9935781a"
      },
      "execution_count": 78,
      "outputs": [
        {
          "output_type": "stream",
          "name": "stdout",
          "text": [
            "Lab 0: 2/2 exercises completed (100%)\n",
            "    ✅ 1097 participants have completed this lab\n",
            "Lab 1: 9/9 exercises completed (100%)\n",
            "    ✅ 102 participants have completed this lab\n",
            "Lab 2: 0/7 exercises completed (0%)\n",
            "    ✅ 1 participants have completed this lab\n",
            "Lab 3: 0/5 exercises completed (0%)\n",
            "    ✅ 0 participants have completed this lab\n",
            "Lab 4: 0/6 exercises completed (0%)\n",
            "    ✅ 0 participants have completed this lab\n"
          ]
        }
      ]
    }
  ]
}
